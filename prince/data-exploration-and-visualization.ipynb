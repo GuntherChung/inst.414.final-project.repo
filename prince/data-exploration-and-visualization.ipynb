{
 "cells": [
  {
   "attachments": {},
   "cell_type": "markdown",
   "metadata": {},
   "source": [
    "# Data Exploration and Visualization \n",
    "\n",
    "In this notebook I use Neural Networks to identify underlying patterns in our book data that our stakeholders can use to impact their businesses.\n",
    "\n",
    "\n",
    "By: Prince Okpoziakpo"
   ]
  },
  {
   "cell_type": "code",
   "execution_count": 5,
   "metadata": {},
   "outputs": [
    {
     "name": "stderr",
     "output_type": "stream",
     "text": [
      "<frozen importlib._bootstrap>:219: RuntimeWarning: numpy.ufunc size changed, may indicate binary incompatibility. Expected 216 from C header, got 232 from PyObject\n"
     ]
    }
   ],
   "source": [
    "import pandas as pd\n",
    "import numpy as np"
   ]
  },
  {
   "cell_type": "code",
   "execution_count": 33,
   "metadata": {},
   "outputs": [
    {
     "data": {
      "text/plain": [
       "(2761, 13)"
      ]
     },
     "execution_count": 33,
     "metadata": {},
     "output_type": "execute_result"
    }
   ],
   "source": [
    "# read the book data into the 'books_df' dataframe\n",
    "books_df = pd.read_csv('../data/isbn13_results.csv').drop(columns=['Unnamed: 0'])\n",
    "books_df.shape"
   ]
  },
  {
   "attachments": {},
   "cell_type": "markdown",
   "metadata": {},
   "source": [
    "# Cleaning the data "
   ]
  },
  {
   "attachments": {},
   "cell_type": "markdown",
   "metadata": {},
   "source": [
    "## Removing null values"
   ]
  },
  {
   "cell_type": "code",
   "execution_count": 34,
   "metadata": {},
   "outputs": [
    {
     "data": {
      "text/plain": [
       "(2620, 13)"
      ]
     },
     "execution_count": 34,
     "metadata": {},
     "output_type": "execute_result"
    }
   ],
   "source": [
    "# get all the books that have a description\n",
    "books_df = books_df.loc[~books_df.description.isna()] \n",
    "books_df.shape"
   ]
  },
  {
   "cell_type": "code",
   "execution_count": 110,
   "metadata": {},
   "outputs": [
    {
     "data": {
      "text/plain": [
       "(2581, 13)"
      ]
     },
     "execution_count": 110,
     "metadata": {},
     "output_type": "execute_result"
    }
   ],
   "source": [
    "# get all the books that have categories\n",
    "books_df = books_df.loc[~books_df.main_categories.isna()]\n",
    "books_df.shape"
   ]
  },
  {
   "attachments": {},
   "cell_type": "markdown",
   "metadata": {},
   "source": [
    "## Getting  "
   ]
  },
  {
   "attachments": {},
   "cell_type": "markdown",
   "metadata": {},
   "source": [
    "# Feature Extraction"
   ]
  },
  {
   "attachments": {},
   "cell_type": "markdown",
   "metadata": {},
   "source": [
    "## Vectorize each document from the corpus"
   ]
  },
  {
   "cell_type": "code",
   "execution_count": 36,
   "metadata": {},
   "outputs": [],
   "source": [
    "from sklearn.feature_extraction.text import CountVectorizer"
   ]
  },
  {
   "attachments": {},
   "cell_type": "markdown",
   "metadata": {},
   "source": [
    "### Fitting the transformer to the corpus"
   ]
  },
  {
   "cell_type": "code",
   "execution_count": 42,
   "metadata": {},
   "outputs": [
    {
     "name": "stdout",
     "output_type": "stream",
     "text": [
      "Vocabulary size: 23416\n"
     ]
    }
   ],
   "source": [
    "# instantiate the CountVectorizer object \n",
    "vectorizer = CountVectorizer()\n",
    "\n",
    "# extract the 'description' column and convert it into an array \n",
    "descriptions = books_df.description.to_numpy()\n",
    "\n",
    "# fit the vectorizer on the corpus\n",
    "vectorizer.fit(descriptions)\n",
    "\n",
    "print(f\"Vocabulary size: {vectorizer.vocabulary_.__len__()}\")"
   ]
  },
  {
   "attachments": {},
   "cell_type": "markdown",
   "metadata": {},
   "source": [
    "### Transforming each document into a vector"
   ]
  },
  {
   "cell_type": "code",
   "execution_count": 45,
   "metadata": {},
   "outputs": [
    {
     "data": {
      "text/plain": [
       "array([[0, 0, 0, ..., 0, 0, 0],\n",
       "       [0, 0, 0, ..., 0, 0, 0],\n",
       "       [0, 0, 0, ..., 0, 0, 0],\n",
       "       ...,\n",
       "       [0, 0, 0, ..., 0, 0, 0],\n",
       "       [0, 0, 0, ..., 0, 0, 0],\n",
       "       [0, 0, 0, ..., 0, 0, 0]])"
      ]
     },
     "execution_count": 45,
     "metadata": {},
     "output_type": "execute_result"
    }
   ],
   "source": [
    "bag_of_words = vectorizer.transform(descriptions)"
   ]
  },
  {
   "cell_type": "code",
   "execution_count": 47,
   "metadata": {},
   "outputs": [
    {
     "data": {
      "text/plain": [
       "['alpha', 'alphabet', 'alphabetarians', 'alphabetical', 'alphabetized']"
      ]
     },
     "execution_count": 47,
     "metadata": {},
     "output_type": "execute_result"
    }
   ],
   "source": [
    "vectorizer.get_feature_names()[1000:1005]"
   ]
  },
  {
   "attachments": {},
   "cell_type": "markdown",
   "metadata": {},
   "source": [
    "# Target Extraction"
   ]
  },
  {
   "attachments": {},
   "cell_type": "markdown",
   "metadata": {},
   "source": [
    "## Exploring the categories of each book."
   ]
  },
  {
   "cell_type": "code",
   "execution_count": 88,
   "metadata": {},
   "outputs": [
    {
     "name": "stdout",
     "output_type": "stream",
     "text": [
      "Number of unique categories:  561\n"
     ]
    }
   ],
   "source": [
    "# determine the number of unique categories that exist in the dataset\n",
    "all_categories = [] \n",
    "for categories_list in books_df.main_categories: \n",
    "    if type(categories_list) == str:\n",
    "        c = categories_list.strip(\"\\'][\").split(',')\n",
    "        all_categories += c\n",
    "\n",
    "print(\"Number of unique categories: \", len(set(all_categories)))"
   ]
  },
  {
   "cell_type": "code",
   "execution_count": 80,
   "metadata": {},
   "outputs": [],
   "source": [
    "from sklearn.preprocessing import MultiLabelBinarizer"
   ]
  },
  {
   "cell_type": "code",
   "execution_count": 107,
   "metadata": {},
   "outputs": [
    {
     "data": {
      "text/plain": [
       "array([list(['Juvenile Fiction']), list(['Juvenile Fiction']),\n",
       "       list(['Fiction']), ..., list(['Business & Economics']),\n",
       "       list(['Drama']), list(['Fiction'])], dtype=object)"
      ]
     },
     "execution_count": 107,
     "metadata": {},
     "output_type": "execute_result"
    }
   ],
   "source": [
    "# convert the type of the categories from string into an array of categories\n",
    "all_categories = books_df.main_categories.apply(\n",
    "    lambda s: s.\\\n",
    "        rstrip().\\\n",
    "        lstrip().\\\n",
    "        replace('[', '').\\\n",
    "        replace(']', '').\\\n",
    "        replace(\"\\'\", '').\\\n",
    "        replace(\"\\\"\", '').\\\n",
    "        split(',')\n",
    ")\n",
    "all_categories.to_numpy() "
   ]
  },
  {
   "attachments": {},
   "cell_type": "markdown",
   "metadata": {},
   "source": [
    "## Convert each the 'categories' column into a label indicator matrix"
   ]
  },
  {
   "cell_type": "code",
   "execution_count": 108,
   "metadata": {},
   "outputs": [
    {
     "data": {
      "text/plain": [
       "array([' 1800-1815', ' 1853-1856', ' 1870-1871',\n",
       "       ' 1883-1924--TRANSLATIONS INTO ENGLISH.', ' 1961-1975', ' 1973',\n",
       "       ' 1991', ' 2003-.', ' American', ' Anita (Fictitious character)',\n",
       "       ' Arab', ' Arthur (Fictitious character)', ' Canadian.',\n",
       "       ' Captain (Fictitious character)', ' Chilean',\n",
       "       ' Count (Fictitious character)', ' Cuban',\n",
       "       ' Elvis (Fictitious character)',\n",
       "       ' Encyclopedia (Fictitious character)', ' English',\n",
       "       ' English (Old)', ' FRANZ', ' French',\n",
       "       ' Frodo (Fictitious character)', ' Gaia (Fictitious character)',\n",
       "       ' German', ' Honor (Fictitious character)', ' Islamic', ' Italian',\n",
       "       ' Kahlan (Fictitious character)', ' Latin',\n",
       "       ' Max (Fictitious character)', ' Medieval', ' Mexican',\n",
       "       ' Military', ' Mind & Spirit', ' Mount (China and Nepal)',\n",
       "       ' Myron (Fictitious character)', ' N.Y.)', ' Norse',\n",
       "       ' Paul (Fictitious character)', ' Pictorial',\n",
       "       ' Richard (Fictitious character)', ' The', ' artistic',\n",
       "       ' books in', ' etc', ' etc.)', ' gothic', ' in art', ' strips',\n",
       "       ' the fellowship of the ring (Motion picture)', '1-99',\n",
       "       '20. århundrede', 'AIDS (Disease)', 'Abandoned children',\n",
       "       'Abandoned mines', 'Aboriginal Tasmanians', 'Absurd (Philosophy)',\n",
       "       'Achilles (Greek mythology)', 'Acting',\n",
       "       'Activity programs in education', 'Actors', 'Actors and actresses',\n",
       "       'Adolescence', 'Adrastus (Greek mythology)', 'Adult education',\n",
       "       'Adult students', 'Adultery', 'Adultery in literature',\n",
       "       'Adventure', 'Adventure stories', 'Aeneas (Legendary character)',\n",
       "       'Aeronautics', 'Aeschylus', 'Aesthetics', 'Afghanistan', 'Africa',\n",
       "       'African American cowboys', 'African American families',\n",
       "       'African American men', 'African American men in literature',\n",
       "       'African American women', 'African Americans',\n",
       "       'Agile software development', 'Agriculture', 'Ahab', 'Airplanes',\n",
       "       'Alabama', 'Alexandria (Egypt)', 'Alienation (Social psychology)',\n",
       "       'Allegories', 'Alternative comic books', 'Alternative medicine',\n",
       "       'Alyss (Fictitious character: Beddor)', 'American drama',\n",
       "       'American essays', 'American fiction', 'American literature',\n",
       "       'American poetry', 'American wit and humour', 'Ames', 'Amnell',\n",
       "       'Amnesia', 'Amsterdam (Netherlands)', 'Amusement parks',\n",
       "       'Anarchists', 'Animal sounds', 'Animals', 'Animated films',\n",
       "       'Anthologies', 'Anti-globalization movement', 'Antichrist',\n",
       "       'Antigone (Greek mythology)', 'Antiheroes',\n",
       "       'Antiques & Collectibles', 'Antisemitism', 'Antislavery movements',\n",
       "       'Anxiety', 'Apartheid', 'Apartment houses', 'Apes',\n",
       "       'Aphorisms and apothegms', 'Arabic literature', 'Archaeology',\n",
       "       'Architecture', 'Arctic regions', 'Argentina', 'Arithmetic',\n",
       "       'Arms transfers', 'Arranged marriage', 'Art', 'Art and music',\n",
       "       'Artists', 'Artists models', 'Assassination', 'Assassins',\n",
       "       'Astronomy', 'Athens', 'Athens (Greece)', 'Atlantic cod',\n",
       "       'Atlantis', 'Atlas (Greek deity)', 'Atreides', 'Audiobooks',\n",
       "       'Aunts', 'Australia', 'Australian fiction', 'Authors',\n",
       "       'Authors in literature', 'Authorship', 'Autobiographical fiction',\n",
       "       'BUSINESS & ECONOMICS', 'Bacchantes', 'Baggins',\n",
       "       'Bail bond agents', 'Bailey School Kids (Fictitious characters)',\n",
       "       'Bakeries', 'Ballet dancing', 'Bards and bardism',\n",
       "       'Behavior therapy', 'Belgians', 'Belief and doubt',\n",
       "       'Bengal (India)', 'Beowulf', 'Bereavement',\n",
       "       'Best books for young adults (Fiction)', 'Best sellers',\n",
       "       'Betrayal', 'Bible', 'Bible and evolution', 'Bibles', 'Big books',\n",
       "       'Bildungsromans', 'Biographical fiction',\n",
       "       'Biography & Autobiography', 'Bishops', 'Black people', 'Blake',\n",
       "       'Boarding schools', 'Boats and boating', 'Body', 'Body size',\n",
       "       'Bodyguards', 'Bolitar', 'Book clubs (Discussion groups)',\n",
       "       'Bosnia and Hercegovina', 'Bosnia and Herzegovina',\n",
       "       'Boston (Mass.)', 'British', 'Brothers', 'Brothers and sisters',\n",
       "       'Brown', 'Buddhism', 'Bus travel', 'Business & Economics',\n",
       "       'Business consultants', 'Business ethics', 'Business planning',\n",
       "       'Businessmen', 'Butlers', 'C++ (Computer program language).',\n",
       "       'Cambridge (England)', 'Camel Club (Imaginary organization)',\n",
       "       'Canada', 'Cancer', 'Candy', 'Canterbury (England)', 'Capitalism',\n",
       "       'Capitalists and financiers', 'Caricatures and cartoons',\n",
       "       'Cartoon characters', 'Cartooning', 'Catholics', 'Cats',\n",
       "       'Censorship', 'Changelings', 'Character',\n",
       "       'Characters in literature', 'Cherokee Indians', 'Chess',\n",
       "       'Chicago (Ill.)', 'Chick lit', 'Children of Holocaust survivors',\n",
       "       'Childrens poetry', 'Childrens stories', 'Chile', 'China',\n",
       "       'Chinatown (New York', 'Chinese American families',\n",
       "       'Chinese language', 'Christian biography', 'Christian fiction',\n",
       "       'Christian life', 'Christian pilgrims and pilgrimages',\n",
       "       'Christian women', 'Christmas', 'Christmas stories',\n",
       "       'Church work with the poor', 'Cinematography',\n",
       "       'Ciphers in literature', 'City and town life', 'Civil law',\n",
       "       'Civilization', 'Class reunions', 'Clergy', 'Clowns',\n",
       "       'Coal mines and mining', 'Coast redwood', 'Cole', 'Colombia',\n",
       "       'Coma', 'Comedy', 'Comedy programs', 'Comic books',\n",
       "       'Comics & Graphic Novels', 'Commercial art',\n",
       "       'Competition (Psychology)', 'Compulsive behavior',\n",
       "       'Computer crimes', 'Computer engineers', 'Computer graphics',\n",
       "       'Computers', 'Conduct of life', 'Conflict of generations',\n",
       "       'Conspiracies', 'Consumer behavior', 'Contests', 'Conversion',\n",
       "       'Cookbooks', 'Cookery', 'Cookery (Herbs)', 'Cooking',\n",
       "       'Counterculture', 'Country homes', 'Country life', 'Courtship',\n",
       "       'Cowgirls', 'Crafts & Hobbies', 'Creation (Literary',\n",
       "       'Crime investigations', 'Crime prevention', 'Crime scenes',\n",
       "       'Crimean War', 'Criminals', 'Critical pedagogy', 'Crocodiles',\n",
       "       'Crusades', 'Cuba', 'Cuentos populares de terror',\n",
       "       'Data structures (Computer science)', 'Dating (Social customs)',\n",
       "       'Death', 'Demonology', 'Dent', 'Depressed persons', 'Depressions',\n",
       "       'Derivative securities', 'Design', 'Detective and mystery stories',\n",
       "       'Detectives', 'Diaries', 'Diary fiction', 'Diseases',\n",
       "       'Disinheritance', 'Diversity', 'Divorced women',\n",
       "       'Domestic fiction', 'Doppelgängers', 'Dorset (England)', 'Dracula',\n",
       "       'Dragons', 'Drama', 'Drama inglés', 'Dreams', 'Drug addicts',\n",
       "       'Drug traffic', 'Dune (Imaginary place)', 'Dysfunctional families',\n",
       "       'Dystopias', 'Eberron (Imaginary place)', 'Economic development',\n",
       "       'Education', 'Educational tests and measurements', 'Egypt',\n",
       "       'Elections', 'Electric engineers', 'Emotions',\n",
       "       'Ender (Fictitious character)', 'England',\n",
       "       'Englisch - Geschichte - Lyrik - Aufsatzsammlung', 'English',\n",
       "       'English drama', 'English essays', 'English fiction',\n",
       "       'English language', 'English poetry', 'Entertainers',\n",
       "       'Environmental psychology', 'Epic fiction', 'Epic poetry',\n",
       "       'Essays', 'Estados Unidos - Relaciones exteriores - 1945-1989',\n",
       "       'Ethics', 'Everest', 'Evidence-based social work', 'Evolution',\n",
       "       'Experience (Religion)', 'Experimental fiction', 'FICTION',\n",
       "       'Fables', 'Fairies', 'Fairy tales', 'Family & Relationships',\n",
       "       'Family life', 'Fantastic', 'Fantasy', 'Fantasy comic books',\n",
       "       'Fantasy fiction', 'Fantasy.', 'Fatal familial insomnia',\n",
       "       'Fathers and daughters', 'Fathers and sons', 'Fear',\n",
       "       'Female friendship', 'Feminism', 'Fiction', 'Flags',\n",
       "       'Foreign Language Study', 'Forgery', 'France',\n",
       "       'Franco-Prussian War', 'Frankenstein (Fictitious character)',\n",
       "       'Free trade', 'Free will and determinism',\n",
       "       'Frontier and pioneer life', 'GOVERNORS.', 'Games & Activities',\n",
       "       'Gangsters', 'Gay couples', 'Gay men', 'Geishas',\n",
       "       'Global environmental change', 'Goats', 'God', 'Goddesses',\n",
       "       'Good and evil', 'Graphic novels', 'Great Britain',\n",
       "       'Great philosophers (Television program)', 'Greece',\n",
       "       'Greek drama (Tragedy)', 'Group reading', 'Guitar music (Rock)',\n",
       "       'Harrington', 'Hats', 'Haunted houses', 'Health & Fitness',\n",
       "       'Helicopter pilots', 'High interest-low vocabulary books',\n",
       "       'Highlands (Scotland)', 'Historical fiction', 'History',\n",
       "       'Hitchhikers guide to the galaxy (Motion picture)', 'Hitchhiking',\n",
       "       'Holt', 'Horror comic books', 'Horror tales', 'Horse racing',\n",
       "       'Hotelkeepers', 'House & Home', 'Human-alien encounters', 'Humor',\n",
       "       'Humorous stories', 'Humorous stories.', 'Husbands and wives',\n",
       "       'Imaginary wars and battles', 'Imagination', 'Immortality',\n",
       "       'India', 'Industrial management',\n",
       "       'Information storage and retrieval systems',\n",
       "       'Inheritance and succession', 'Interpersonal communication',\n",
       "       'Inventors', 'Investments', 'Iraq War', 'Islamic poetry',\n",
       "       'Israel-Arab War', 'Japan', 'Journalists', 'Juvenile Fiction',\n",
       "       'Juvenile Nonfiction', 'KAFKA', 'Knights and knighthood',\n",
       "       'Language Arts & Disciplines', 'Large type books', 'Latin America',\n",
       "       'Law', 'Leadership', 'Legal stories', 'Life on other planets',\n",
       "       'Literary Collections', 'Literary Criticism',\n",
       "       'Literary Criticism & Collections', 'Literature', 'Local author',\n",
       "       'Logic', 'London (England)', 'Lord of the rings',\n",
       "       'Los Angeles (Calif.)', 'Louisiana', 'Love stories',\n",
       "       'Lovely story', 'Magic', 'Man-woman relationships',\n",
       "       'Manhattan (New York', 'Married people', 'Mars (Planet)',\n",
       "       'Mathematics', 'Medical', 'Mexico', 'Mississippi River',\n",
       "       'Mistaken identity', 'Monodramas', 'Moore',\n",
       "       'Motion picture actors and actresses', 'Motion picture authorship',\n",
       "       'Motion picture industry',\n",
       "       'Motion picture producers and directors', 'Music', 'Music trade',\n",
       "       'Mystery fiction', 'Mythology', 'Napoleonic Wars', 'Nature',\n",
       "       'New York (N.Y.)', 'Novelists', 'Occult fiction', 'Oklahoma',\n",
       "       'Outlaws', 'Painters', 'Paranormal fiction',\n",
       "       'Patagonia (Argentina and Chile)',\n",
       "       'People with mental disabilities',\n",
       "       'People with social disabilities', 'Perception (Philosophy).',\n",
       "       'Performing Arts', 'Perros', 'Persian Gulf War', 'Pets',\n",
       "       'Philosophy', 'Photographers', 'Photography', 'Physicists',\n",
       "       'Physics', 'Picture books for children', 'Pigeons', 'Pirates',\n",
       "       'Poetry', 'Poets', 'Poker', 'Political Science',\n",
       "       'Pompeii (Extinct city)', 'Popular music', 'Portuguese fiction',\n",
       "       'Presidents', 'Psychic ability', 'Psycho (Motion picture : 1960)',\n",
       "       'Psychology', 'Questions and answers', 'Rabbits', 'Reference',\n",
       "       'Religion', 'Robots', 'Rock groups', 'Rock music',\n",
       "       'Rock musicians', 'Romance', 'Romance fiction',\n",
       "       'Romantic suspense fiction', 'Rome', 'Russia', 'Sailing',\n",
       "       'Science', 'Science fiction', 'Science fiction comic books',\n",
       "       'Self-Help', 'Self-actualization (Psychology)', 'Sex (Biology)',\n",
       "       'Short stories', 'Skønlitteratur-USA', 'Slave insurrections',\n",
       "       'Social Science', 'Spiritual life', 'Sports & Recreation',\n",
       "       'Star Wars films', 'Study Aids',\n",
       "       'Superman (Philosophical concept)', 'Superstition',\n",
       "       'Suspense fiction', 'Technology & Engineering', 'Teleportation',\n",
       "       'Teleshopping', 'Texas', 'Thames River (England)', 'Travel',\n",
       "       'Trees', 'True Crime', 'Turtles as pets', 'United States',\n",
       "       'Unrequited love', 'Video games', 'Vietnam War', 'Web Sites',\n",
       "       'Women', 'Yogis', 'Yosemite Valley (Calif.)',\n",
       "       'Young Adult Fiction'], dtype=object)"
      ]
     },
     "execution_count": 108,
     "metadata": {},
     "output_type": "execute_result"
    }
   ],
   "source": [
    "mlb = MultiLabelBinarizer()\n",
    "mlb.fit(all_categories)\n",
    "mlb.classes_"
   ]
  },
  {
   "cell_type": "code",
   "execution_count": 109,
   "metadata": {},
   "outputs": [
    {
     "name": "stdout",
     "output_type": "stream",
     "text": [
      "[1 2 3 5 7 8 9]\n"
     ]
    },
    {
     "data": {
      "text/plain": [
       "array([[1, 1, 0, 0, 0, 0, 0],\n",
       "       [0, 0, 1, 0, 0, 0, 0]])"
      ]
     },
     "execution_count": 109,
     "metadata": {},
     "output_type": "execute_result"
    }
   ],
   "source": [
    "mlb = MultiLabelBinarizer()\n",
    "mlb.fit(np.random.randint(1, 10, (3, 5)))\n",
    "print(mlb.classes_)\n",
    "mlb.transform([\n",
    "    [1, 2], \n",
    "    [3, ]\n",
    "])"
   ]
  }
 ],
 "metadata": {
  "kernelspec": {
   "display_name": "venv",
   "language": "python",
   "name": "python3"
  },
  "language_info": {
   "codemirror_mode": {
    "name": "ipython",
    "version": 3
   },
   "file_extension": ".py",
   "mimetype": "text/x-python",
   "name": "python",
   "nbconvert_exporter": "python",
   "pygments_lexer": "ipython3",
   "version": "3.8.2"
  },
  "orig_nbformat": 4
 },
 "nbformat": 4,
 "nbformat_minor": 2
}
