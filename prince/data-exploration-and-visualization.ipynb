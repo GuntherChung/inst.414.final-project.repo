{
 "cells": [
  {
   "attachments": {},
   "cell_type": "markdown",
   "metadata": {},
   "source": [
    "# Data Exploration and Visualization \n",
    "\n",
    "In this notebook I use Neural Networks to identify underlying patterns in our book data that our stakeholders can use to impact their businesses.\n",
    "\n",
    "\n",
    "By: Prince Okpoziakpo"
   ]
  },
  {
   "cell_type": "code",
   "execution_count": 1,
   "metadata": {},
   "outputs": [],
   "source": [
    "import pandas as pd\n",
    "import numpy as np"
   ]
  },
  {
   "cell_type": "code",
   "execution_count": 7,
   "metadata": {},
   "outputs": [
    {
     "data": {
      "text/html": [
       "<div>\n",
       "<style scoped>\n",
       "    .dataframe tbody tr th:only-of-type {\n",
       "        vertical-align: middle;\n",
       "    }\n",
       "\n",
       "    .dataframe tbody tr th {\n",
       "        vertical-align: top;\n",
       "    }\n",
       "\n",
       "    .dataframe thead th {\n",
       "        text-align: right;\n",
       "    }\n",
       "</style>\n",
       "<table border=\"1\" class=\"dataframe\">\n",
       "  <thead>\n",
       "    <tr style=\"text-align: right;\">\n",
       "      <th></th>\n",
       "      <th>title</th>\n",
       "      <th>subtitle</th>\n",
       "      <th>authors</th>\n",
       "      <th>publisher</th>\n",
       "      <th>publishdate</th>\n",
       "      <th>description</th>\n",
       "      <th>isbn_13</th>\n",
       "      <th>page_count</th>\n",
       "      <th>main_categories</th>\n",
       "      <th>categories</th>\n",
       "      <th>average_rating</th>\n",
       "      <th>ratings_count</th>\n",
       "      <th>maturity_rating</th>\n",
       "    </tr>\n",
       "  </thead>\n",
       "  <tbody>\n",
       "    <tr>\n",
       "      <th>0</th>\n",
       "      <td>Harry Potter and the Chamber of Secrets</td>\n",
       "      <td>NaN</td>\n",
       "      <td>['J. K. Rowling', 'Mary GrandPre']</td>\n",
       "      <td>Arthur a Levine</td>\n",
       "      <td>2003</td>\n",
       "      <td>When the Chamber of Secrets is opened again at...</td>\n",
       "      <td>9780439554893</td>\n",
       "      <td>341.0</td>\n",
       "      <td>['Juvenile Fiction']</td>\n",
       "      <td>['Juvenile Fiction']</td>\n",
       "      <td>4.5</td>\n",
       "      <td>2273.0</td>\n",
       "      <td>NOT_MATURE</td>\n",
       "    </tr>\n",
       "    <tr>\n",
       "      <th>1</th>\n",
       "      <td>Harry Potter and the Prisoner of Azkaban</td>\n",
       "      <td>NaN</td>\n",
       "      <td>['J. K. Rowling']</td>\n",
       "      <td>Scholastic Paperbacks</td>\n",
       "      <td>2004</td>\n",
       "      <td>During his third year at Hogwarts School for W...</td>\n",
       "      <td>9780439655484</td>\n",
       "      <td>547.0</td>\n",
       "      <td>['Juvenile Fiction']</td>\n",
       "      <td>['Juvenile Fiction']</td>\n",
       "      <td>4.5</td>\n",
       "      <td>2122.0</td>\n",
       "      <td>NOT_MATURE</td>\n",
       "    </tr>\n",
       "    <tr>\n",
       "      <th>2</th>\n",
       "      <td>Harry Potter</td>\n",
       "      <td>5 Years of Magic, Adventure, and Mystery at Ho...</td>\n",
       "      <td>['J. K. Rowling']</td>\n",
       "      <td>NaN</td>\n",
       "      <td>2004</td>\n",
       "      <td>NaN</td>\n",
       "      <td>9780439682589</td>\n",
       "      <td>0.0</td>\n",
       "      <td>NaN</td>\n",
       "      <td>NaN</td>\n",
       "      <td>4.5</td>\n",
       "      <td>13.0</td>\n",
       "      <td>NOT_MATURE</td>\n",
       "    </tr>\n",
       "    <tr>\n",
       "      <th>3</th>\n",
       "      <td>Unauthorized Harry Potter and the Deathly Hall...</td>\n",
       "      <td>Harry Potter Book Seven and Half-Blood Prince ...</td>\n",
       "      <td>['W. Frederick Zimmerman']</td>\n",
       "      <td>Nimble Books</td>\n",
       "      <td>2005-04</td>\n",
       "      <td>Through the magic of print-on-demand technolog...</td>\n",
       "      <td>9780976540601</td>\n",
       "      <td>152.0</td>\n",
       "      <td>['Fiction']</td>\n",
       "      <td>['Fiction']</td>\n",
       "      <td>3.5</td>\n",
       "      <td>11.0</td>\n",
       "      <td>NOT_MATURE</td>\n",
       "    </tr>\n",
       "    <tr>\n",
       "      <th>4</th>\n",
       "      <td>The Harry Potter Collection</td>\n",
       "      <td>The First Six Spellbinding Adventures at Hogwarts</td>\n",
       "      <td>['J. K. Rowling']</td>\n",
       "      <td>Arthur a Levine</td>\n",
       "      <td>2005-10-01</td>\n",
       "      <td>The first six years of Harry Potter magic are ...</td>\n",
       "      <td>9780439827607</td>\n",
       "      <td>NaN</td>\n",
       "      <td>['Juvenile Fiction']</td>\n",
       "      <td>['Juvenile Fiction']</td>\n",
       "      <td>4.5</td>\n",
       "      <td>16.0</td>\n",
       "      <td>NOT_MATURE</td>\n",
       "    </tr>\n",
       "  </tbody>\n",
       "</table>\n",
       "</div>"
      ],
      "text/plain": [
       "                                               title  \\\n",
       "0            Harry Potter and the Chamber of Secrets   \n",
       "1           Harry Potter and the Prisoner of Azkaban   \n",
       "2                                       Harry Potter   \n",
       "3  Unauthorized Harry Potter and the Deathly Hall...   \n",
       "4                        The Harry Potter Collection   \n",
       "\n",
       "                                            subtitle  \\\n",
       "0                                                NaN   \n",
       "1                                                NaN   \n",
       "2  5 Years of Magic, Adventure, and Mystery at Ho...   \n",
       "3  Harry Potter Book Seven and Half-Blood Prince ...   \n",
       "4  The First Six Spellbinding Adventures at Hogwarts   \n",
       "\n",
       "                              authors              publisher publishdate  \\\n",
       "0  ['J. K. Rowling', 'Mary GrandPre']        Arthur a Levine        2003   \n",
       "1                   ['J. K. Rowling']  Scholastic Paperbacks        2004   \n",
       "2                   ['J. K. Rowling']                    NaN        2004   \n",
       "3          ['W. Frederick Zimmerman']           Nimble Books     2005-04   \n",
       "4                   ['J. K. Rowling']        Arthur a Levine  2005-10-01   \n",
       "\n",
       "                                         description        isbn_13  \\\n",
       "0  When the Chamber of Secrets is opened again at...  9780439554893   \n",
       "1  During his third year at Hogwarts School for W...  9780439655484   \n",
       "2                                                NaN  9780439682589   \n",
       "3  Through the magic of print-on-demand technolog...  9780976540601   \n",
       "4  The first six years of Harry Potter magic are ...  9780439827607   \n",
       "\n",
       "   page_count       main_categories            categories  average_rating  \\\n",
       "0       341.0  ['Juvenile Fiction']  ['Juvenile Fiction']             4.5   \n",
       "1       547.0  ['Juvenile Fiction']  ['Juvenile Fiction']             4.5   \n",
       "2         0.0                   NaN                   NaN             4.5   \n",
       "3       152.0           ['Fiction']           ['Fiction']             3.5   \n",
       "4         NaN  ['Juvenile Fiction']  ['Juvenile Fiction']             4.5   \n",
       "\n",
       "   ratings_count maturity_rating  \n",
       "0         2273.0      NOT_MATURE  \n",
       "1         2122.0      NOT_MATURE  \n",
       "2           13.0      NOT_MATURE  \n",
       "3           11.0      NOT_MATURE  \n",
       "4           16.0      NOT_MATURE  "
      ]
     },
     "execution_count": 7,
     "metadata": {},
     "output_type": "execute_result"
    }
   ],
   "source": [
    "books_df = pd.read_csv('../data/isbn13_results.csv').drop(columns=['Unnamed: 0'])\n",
    "books_df.head() "
   ]
  },
  {
   "cell_type": "code",
   "execution_count": 8,
   "metadata": {},
   "outputs": [
    {
     "data": {
      "text/plain": [
       "Index(['title', 'subtitle', 'authors', 'publisher', 'publishdate',\n",
       "       'description', 'isbn_13', 'page_count', 'main_categories', 'categories',\n",
       "       'average_rating', 'ratings_count', 'maturity_rating'],\n",
       "      dtype='object')"
      ]
     },
     "execution_count": 8,
     "metadata": {},
     "output_type": "execute_result"
    }
   ],
   "source": [
    "books_df.columns"
   ]
  },
  {
   "attachments": {},
   "cell_type": "markdown",
   "metadata": {},
   "source": [
    "# Exploring the categories of each book."
   ]
  },
  {
   "cell_type": "code",
   "execution_count": 41,
   "metadata": {},
   "outputs": [
    {
     "name": "stdout",
     "output_type": "stream",
     "text": [
      "Number of unique categories:  593\n"
     ]
    }
   ],
   "source": [
    "all_categories = [] # categories list\n",
    "for categories_list in books_df.main_categories: \n",
    "    if type(categories_list) == str:\n",
    "        # convert the string to a list\n",
    "        c = categories_list.strip('\\'][').split(',')\n",
    "        all_categories += c\n",
    "\n",
    "print(\"Number of unique categories: \", len(set(all_categories)))"
   ]
  }
 ],
 "metadata": {
  "kernelspec": {
   "display_name": "venv",
   "language": "python",
   "name": "python3"
  },
  "language_info": {
   "codemirror_mode": {
    "name": "ipython",
    "version": 3
   },
   "file_extension": ".py",
   "mimetype": "text/x-python",
   "name": "python",
   "nbconvert_exporter": "python",
   "pygments_lexer": "ipython3",
   "version": "3.8.2"
  },
  "orig_nbformat": 4
 },
 "nbformat": 4,
 "nbformat_minor": 2
}
