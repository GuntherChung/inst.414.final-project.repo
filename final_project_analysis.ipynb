{
 "cells": [
  {
   "attachments": {},
   "cell_type": "markdown",
   "metadata": {},
   "source": [
    "#### INST414 | Final Project Analysis | Group 7 | Book recommendation project\n",
    "#### Team members - Ben Griffith, Daniel Gonzalez, Prince Okpoziakpo\n",
    "* Medium post due 05/16/2023"
   ]
  },
  {
   "cell_type": "code",
   "execution_count": null,
   "metadata": {},
   "outputs": [],
   "source": []
  }
 ],
 "metadata": {
  "language_info": {
   "name": "python"
  },
  "orig_nbformat": 4
 },
 "nbformat": 4,
 "nbformat_minor": 2
}
