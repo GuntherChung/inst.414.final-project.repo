{
 "cells": [
  {
   "cell_type": "code",
   "execution_count": 17,
   "metadata": {},
   "outputs": [],
   "source": [
    "import pandas as pd\n",
    "import pprint\n",
    "import requests\n",
    "import json"
   ]
  },
  {
   "attachments": {},
   "cell_type": "markdown",
   "metadata": {},
   "source": [
    "# Getting book ids"
   ]
  },
  {
   "cell_type": "code",
   "execution_count": 38,
   "metadata": {},
   "outputs": [],
   "source": [
    "def get_book_id(isbn):\n",
    "    url = f\"https://www.googleapis.com/books/v1/volumes?q=isbn:{isbn}\"\n",
    "    response = requests.get(url)\n",
    "    if response.status_code == 200:\n",
    "        book_data = response.json()\n",
    "        if 'items' in book_data:\n",
    "            return book_data['items'][0]['id']\n",
    "    return None"
   ]
  },
  {
   "cell_type": "code",
   "execution_count": 45,
   "metadata": {},
   "outputs": [
    {
     "name": "stdout",
     "output_type": "stream",
     "text": [
      "0                None\n",
      "1                None\n",
      "2        h2Y-PgAACAAJ\n",
      "3        FBXRzgEACAAJ\n",
      "4        DAAAAAAACAAJ\n",
      "             ...     \n",
      "11122            None\n",
      "11123    d0buAAAAMAAJ\n",
      "11124            None\n",
      "11125            None\n",
      "11126            None\n",
      "Name: isbn13, Length: 11127, dtype: object\n"
     ]
    },
    {
     "name": "stderr",
     "output_type": "stream",
     "text": [
      "C:\\Users\\danie\\AppData\\Local\\Temp\\ipykernel_59120\\67998637.py:6: SettingWithCopyWarning: \n",
      "A value is trying to be set on a copy of a slice from a DataFrame\n",
      "\n",
      "See the caveats in the documentation: https://pandas.pydata.org/pandas-docs/stable/user_guide/indexing.html#returning-a-view-versus-a-copy\n",
      "  isbn_13['book_id'] = book_ids\n"
     ]
    }
   ],
   "source": [
    "kaggle_data = pd.read_csv(\"books.csv\")\n",
    "isbn_13 = kaggle_data['isbn13']\n",
    "book_ids = isbn_13.apply(get_book_id)\n",
    "\n",
    "print(book_ids)"
   ]
  },
  {
   "cell_type": "code",
   "execution_count": 55,
   "metadata": {},
   "outputs": [
    {
     "data": {
      "text/plain": [
       "(11127,)"
      ]
     },
     "execution_count": 55,
     "metadata": {},
     "output_type": "execute_result"
    }
   ],
   "source": [
    "book_ids.shape"
   ]
  },
  {
   "cell_type": "code",
   "execution_count": 56,
   "metadata": {},
   "outputs": [
    {
     "name": "stdout",
     "output_type": "stream",
     "text": [
      "Number of missing book IDs: 8437\n"
     ]
    }
   ],
   "source": [
    "# count the number of missing book IDs\n",
    "num_missing = book_ids.isna().sum()\n",
    "\n",
    "print(f\"Number of missing book IDs: {num_missing}\")"
   ]
  },
  {
   "cell_type": "code",
   "execution_count": 73,
   "metadata": {},
   "outputs": [
    {
     "data": {
      "text/plain": [
       "0       h2Y-PgAACAAJ\n",
       "1       FBXRzgEACAAJ\n",
       "2       DAAAAAAACAAJ\n",
       "3       LH5C9q83T6wC\n",
       "4       62CEzQEACAAJ\n",
       "            ...     \n",
       "2685    tcWMPAAACAAJ\n",
       "2686    O2JfAAAAMAAJ\n",
       "2687    y4kgSgAACAAJ\n",
       "2688    TaQZzgEACAAJ\n",
       "2689    d0buAAAAMAAJ\n",
       "Name: isbn13, Length: 2690, dtype: object"
      ]
     },
     "execution_count": 73,
     "metadata": {},
     "output_type": "execute_result"
    }
   ],
   "source": [
    "# Pulling only the not None rows\n",
    "not_none = book_ids.notna()\n",
    "Final_book_ids = book_ids[not_none]\n",
    "Final_book_ids = Final_book_ids.reset_index(drop=True)\n",
    "Final_book_ids"
   ]
  },
  {
   "cell_type": "code",
   "execution_count": 69,
   "metadata": {},
   "outputs": [],
   "source": [
    "# Exporting Final_book_ids so i dont accidentally erase the data\n",
    "Final_book_ids.to_csv('final_books_ids.csv', index=False)"
   ]
  },
  {
   "cell_type": "code",
   "execution_count": null,
   "metadata": {},
   "outputs": [],
   "source": []
  }
 ],
 "metadata": {
  "kernelspec": {
   "display_name": "Python 3",
   "language": "python",
   "name": "python3"
  },
  "language_info": {
   "codemirror_mode": {
    "name": "ipython",
    "version": 3
   },
   "file_extension": ".py",
   "mimetype": "text/x-python",
   "name": "python",
   "nbconvert_exporter": "python",
   "pygments_lexer": "ipython3",
   "version": "3.11.3"
  },
  "orig_nbformat": 4
 },
 "nbformat": 4,
 "nbformat_minor": 2
}
