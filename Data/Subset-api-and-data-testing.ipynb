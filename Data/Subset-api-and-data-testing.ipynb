{
 "cells": [
  {
   "attachments": {},
   "cell_type": "markdown",
   "metadata": {},
   "source": [
    "## This is a file to test methods on how to gather data using the \"Original dataset\" csv file that is in this Data folder."
   ]
  },
  {
   "cell_type": "code",
   "execution_count": 1,
   "metadata": {},
   "outputs": [
    {
     "ename": "ModuleNotFoundError",
     "evalue": "No module named 'spacy'",
     "output_type": "error",
     "traceback": [
      "\u001b[1;31m---------------------------------------------------------------------------\u001b[0m",
      "\u001b[1;31mModuleNotFoundError\u001b[0m                       Traceback (most recent call last)",
      "Cell \u001b[1;32mIn[1], line 4\u001b[0m\n\u001b[0;32m      2\u001b[0m \u001b[39mimport\u001b[39;00m \u001b[39mrequests\u001b[39;00m\n\u001b[0;32m      3\u001b[0m \u001b[39mimport\u001b[39;00m \u001b[39mjson\u001b[39;00m\n\u001b[1;32m----> 4\u001b[0m \u001b[39mimport\u001b[39;00m \u001b[39mspacy\u001b[39;00m\n\u001b[0;32m      6\u001b[0m \u001b[39m# Load English tokenizer, tagger, parser and NER\u001b[39;00m\n\u001b[0;32m      7\u001b[0m nlp \u001b[39m=\u001b[39m spacy\u001b[39m.\u001b[39mload(\u001b[39m\"\u001b[39m\u001b[39men_core_web_sm\u001b[39m\u001b[39m\"\u001b[39m)\n",
      "\u001b[1;31mModuleNotFoundError\u001b[0m: No module named 'spacy'"
     ]
    }
   ],
   "source": [
    "import pandas as pd\n",
    "import requests\n",
    "import json\n",
    "\n",
    "import spacy\n",
    "\n",
    "# Load English tokenizer, tagger, parser and NER\n",
    "nlp = spacy.load(\"en_core_web_sm\")\n",
    "\n",
    "# Process whole documents\n",
    "text = (\"When Sebastian Thrun started working on self-driving cars at \"\n",
    "        \"Google in 2007, few people outside of the company took him \"\n",
    "        \"seriously. “I can tell you very senior CEOs of major American \"\n",
    "        \"car companies would shake my hand and turn away because I wasn’t \"\n",
    "        \"worth talking to,” said Thrun, in an interview with Recode earlier \"\n",
    "        \"this week.\")\n",
    "doc = nlp(text)\n",
    "\n",
    "# Analyze syntax\n",
    "print(\"Noun phrases:\", [chunk.text for chunk in doc.noun_chunks])\n",
    "print(\"Verbs:\", [token.lemma_ for token in doc if token.pos_ == \"VERB\"])\n",
    "\n",
    "# Find named entities, phrases and concepts\n",
    "for entity in doc.ents:\n",
    "    print(entity.text, entity.label_)"
   ]
  },
  {
   "attachments": {},
   "cell_type": "markdown",
   "metadata": {},
   "source": [
    "# Read Kaggle dataset, and extract the ISBN 13 for all the books"
   ]
  },
  {
   "cell_type": "code",
   "execution_count": 2,
   "metadata": {},
   "outputs": [
    {
     "data": {
      "text/plain": [
       "(11127,)"
      ]
     },
     "execution_count": 2,
     "metadata": {},
     "output_type": "execute_result"
    }
   ],
   "source": [
    "kaggle_data = pd.read_csv(\"books.csv\")  # read the Kaggle books dataset\n",
    "isbn_13 = kaggle_data['isbn13']         # extract the ISBN-13 column\n",
    "\n",
    "isbn_13.shape "
   ]
  },
  {
   "cell_type": "code",
   "execution_count": 9,
   "metadata": {},
   "outputs": [
    {
     "data": {
      "text/plain": [
       "0    9780439785969\n",
       "1    9780439358071\n",
       "2    9780439554893\n",
       "3    9780439655484\n",
       "4    9780439682589\n",
       "Name: isbn13, dtype: object"
      ]
     },
     "execution_count": 9,
     "metadata": {},
     "output_type": "execute_result"
    }
   ],
   "source": [
    "test = isbn_13.head(5)\n",
    "test"
   ]
  },
  {
   "attachments": {},
   "cell_type": "markdown",
   "metadata": {},
   "source": [
    "# Get the books from the Google Books API using the ISNB-13s "
   ]
  },
  {
   "cell_type": "code",
   "execution_count": 6,
   "metadata": {},
   "outputs": [
    {
     "name": "stdout",
     "output_type": "stream",
     "text": [
      "0 9780439785969: dict_keys(['kind', 'totalItems']): \n",
      "1 9780439358071: dict_keys(['kind', 'totalItems']): \n",
      "2 9780439554893: dict_keys(['kind', 'totalItems', 'items']): 1: Harry Potter and the Chamber of Secrets\n",
      "3 9780439655484: dict_keys(['kind', 'totalItems', 'items']): 1: Harry Potter and the Prisoner of Azkaban\n",
      "4 9780439682589: dict_keys(['kind', 'totalItems', 'items']): 1: Harry Potter\n"
     ]
    }
   ],
   "source": [
    "# create an empty list to store the book data\n",
    "book_data_list = []\n",
    "url_base = 'https://www.googleapis.com/books/v1/volumes?q=isbn:'\n",
    "\n",
    "# iterate over the ISBN 13 numbers, and get the information we need using the Google Books API\n",
    "for i, isbn in enumerate(test):\n",
    "\n",
    "    # generate the URL for the Google Books API search \n",
    "    url = url_base + isbn\n",
    "\n",
    "    # get the book data; convert it to a dictionary using .json()\n",
    "    book_data = requests.get(url).json()\n",
    "\n",
    "    print(f'{i} {isbn}: {book_data.keys()}', end=': ')\n",
    "    \n",
    "    if 'totalItems' in book_data and book_data['totalItems'] > 0:\n",
    "\n",
    "        print(book_data['totalItems'], end=': ')\n",
    "        print(book_data['items'][0]['volumeInfo']['title'], end='')\n",
    "        # extract the relevant fields and create a new row in the DataFrame\n",
    "        book = {\n",
    "            'title': book_data['items'][0]['volumeInfo'].get('title', ''),\n",
    "            'subtitle': book_data['items'][0]['volumeInfo'].get('subtitle', ''),\n",
    "            'authors': book_data['items'][0]['volumeInfo'].get('authors', ''),\n",
    "            'publisher': book_data['items'][0]['volumeInfo'].get('publisher', ''),\n",
    "            'publishdate': book_data['items'][0]['volumeInfo'].get('publishedDate', ''),\n",
    "            'description': book_data['items'][0]['volumeInfo'].get('description', ''),\n",
    "            'isbn_13': isbn,\n",
    "            'page_count': book_data['items'][0]['volumeInfo'].get('pageCount', ''),\n",
    "            'main_categories': book_data['items'][0]['volumeInfo'].get('categories', ''),\n",
    "            'categories': book_data['items'][0]['volumeInfo'].get('categories', ''),\n",
    "            'average_rating': book_data['items'][0]['volumeInfo'].get('averageRating', ''),\n",
    "            'ratings_count': book_data['items'][0]['volumeInfo'].get('ratingsCount', ''),\n",
    "            'maturity_rating': book_data['items'][0]['volumeInfo'].get('maturityRating', '')\n",
    "        }\n",
    "\n",
    "        # append the new dictionary to the book_data_list\n",
    "        book_data_list.append(book)\n",
    "    else:\n",
    "\n",
    "        # handle the case where no results were returned for the ISBN-13 number\n",
    "        # print(f\"No results found for ISBN-13 {isbn}\")\n",
    "        pass\n",
    "    \n",
    "    print()\n",
    "\n",
    "# convert the list of dictionaries to a DataFrame\n",
    "response_df = pd.DataFrame(book_data_list)"
   ]
  },
  {
   "cell_type": "code",
   "execution_count": 7,
   "metadata": {},
   "outputs": [
    {
     "data": {
      "text/html": [
       "<div>\n",
       "<style scoped>\n",
       "    .dataframe tbody tr th:only-of-type {\n",
       "        vertical-align: middle;\n",
       "    }\n",
       "\n",
       "    .dataframe tbody tr th {\n",
       "        vertical-align: top;\n",
       "    }\n",
       "\n",
       "    .dataframe thead th {\n",
       "        text-align: right;\n",
       "    }\n",
       "</style>\n",
       "<table border=\"1\" class=\"dataframe\">\n",
       "  <thead>\n",
       "    <tr style=\"text-align: right;\">\n",
       "      <th></th>\n",
       "      <th>title</th>\n",
       "      <th>subtitle</th>\n",
       "      <th>authors</th>\n",
       "      <th>publisher</th>\n",
       "      <th>publishdate</th>\n",
       "      <th>description</th>\n",
       "      <th>isbn_13</th>\n",
       "      <th>page_count</th>\n",
       "      <th>main_categories</th>\n",
       "      <th>categories</th>\n",
       "      <th>average_rating</th>\n",
       "      <th>ratings_count</th>\n",
       "      <th>maturity_rating</th>\n",
       "    </tr>\n",
       "  </thead>\n",
       "  <tbody>\n",
       "    <tr>\n",
       "      <th>0</th>\n",
       "      <td>Harry Potter and the Chamber of Secrets</td>\n",
       "      <td></td>\n",
       "      <td>[J. K. Rowling, Mary GrandPre]</td>\n",
       "      <td>Arthur a Levine</td>\n",
       "      <td>2003</td>\n",
       "      <td>When the Chamber of Secrets is opened again at...</td>\n",
       "      <td>9780439554893</td>\n",
       "      <td>341</td>\n",
       "      <td>[Juvenile Fiction]</td>\n",
       "      <td>[Juvenile Fiction]</td>\n",
       "      <td>4.5</td>\n",
       "      <td>2273</td>\n",
       "      <td>NOT_MATURE</td>\n",
       "    </tr>\n",
       "    <tr>\n",
       "      <th>1</th>\n",
       "      <td>Harry Potter and the Prisoner of Azkaban</td>\n",
       "      <td></td>\n",
       "      <td>[J. K. Rowling]</td>\n",
       "      <td>Scholastic Paperbacks</td>\n",
       "      <td>2004</td>\n",
       "      <td>During his third year at Hogwarts School for W...</td>\n",
       "      <td>9780439655484</td>\n",
       "      <td>547</td>\n",
       "      <td>[Juvenile Fiction]</td>\n",
       "      <td>[Juvenile Fiction]</td>\n",
       "      <td>4.5</td>\n",
       "      <td>2122</td>\n",
       "      <td>NOT_MATURE</td>\n",
       "    </tr>\n",
       "    <tr>\n",
       "      <th>2</th>\n",
       "      <td>Harry Potter</td>\n",
       "      <td>5 Years of Magic, Adventure, and Mystery at Ho...</td>\n",
       "      <td>[J. K. Rowling]</td>\n",
       "      <td></td>\n",
       "      <td>2004</td>\n",
       "      <td></td>\n",
       "      <td>9780439682589</td>\n",
       "      <td>0</td>\n",
       "      <td></td>\n",
       "      <td></td>\n",
       "      <td>4.5</td>\n",
       "      <td>13</td>\n",
       "      <td>NOT_MATURE</td>\n",
       "    </tr>\n",
       "  </tbody>\n",
       "</table>\n",
       "</div>"
      ],
      "text/plain": [
       "                                      title  \\\n",
       "0   Harry Potter and the Chamber of Secrets   \n",
       "1  Harry Potter and the Prisoner of Azkaban   \n",
       "2                              Harry Potter   \n",
       "\n",
       "                                            subtitle  \\\n",
       "0                                                      \n",
       "1                                                      \n",
       "2  5 Years of Magic, Adventure, and Mystery at Ho...   \n",
       "\n",
       "                          authors              publisher publishdate  \\\n",
       "0  [J. K. Rowling, Mary GrandPre]        Arthur a Levine        2003   \n",
       "1                 [J. K. Rowling]  Scholastic Paperbacks        2004   \n",
       "2                 [J. K. Rowling]                               2004   \n",
       "\n",
       "                                         description        isbn_13  \\\n",
       "0  When the Chamber of Secrets is opened again at...  9780439554893   \n",
       "1  During his third year at Hogwarts School for W...  9780439655484   \n",
       "2                                                     9780439682589   \n",
       "\n",
       "   page_count     main_categories          categories  average_rating  \\\n",
       "0         341  [Juvenile Fiction]  [Juvenile Fiction]             4.5   \n",
       "1         547  [Juvenile Fiction]  [Juvenile Fiction]             4.5   \n",
       "2           0                                                     4.5   \n",
       "\n",
       "   ratings_count maturity_rating  \n",
       "0           2273      NOT_MATURE  \n",
       "1           2122      NOT_MATURE  \n",
       "2             13      NOT_MATURE  "
      ]
     },
     "execution_count": 7,
     "metadata": {},
     "output_type": "execute_result"
    }
   ],
   "source": [
    "response_df"
   ]
  },
  {
   "cell_type": "code",
   "execution_count": 22,
   "metadata": {},
   "outputs": [],
   "source": [
    "response_df.to_csv('isbn13_results.csv')"
   ]
  },
  {
   "attachments": {},
   "cell_type": "markdown",
   "metadata": {},
   "source": [
    "Using Google Books API to fix missing data in Kaggle Dataset"
   ]
  },
  {
   "cell_type": "code",
   "execution_count": null,
   "metadata": {},
   "outputs": [],
   "source": [
    "# get the faulty ISBN\n",
    "isbn = isbn_13.loc[0]\n",
    "print(isbn)\n",
    "\n",
    "# url for the book\n",
    "url = f\"https://www.googleapis.com/books/v1/volumes?q=isbn:{isbn}\"\n",
    "\n",
    "# get the book\n",
    "response = requests.get(url)\n",
    "\n",
    "# convert the HTTP Response object to a dict\n",
    "json = response.json()\n",
    "\n",
    "# get the keys for the dict\n",
    "json.keys()"
   ]
  },
  {
   "cell_type": "code",
   "execution_count": null,
   "metadata": {},
   "outputs": [],
   "source": [
    "temp = temp"
   ]
  },
  {
   "cell_type": "code",
   "execution_count": null,
   "metadata": {},
   "outputs": [],
   "source": [
    "print(f'in_google: {in_google}\\nnot_in_google: {not_in_google}')"
   ]
  },
  {
   "cell_type": "code",
   "execution_count": null,
   "metadata": {},
   "outputs": [],
   "source": [
    "json['items'][0]['volumeInfo']"
   ]
  }
 ],
 "metadata": {
  "kernelspec": {
   "display_name": "Python 3",
   "language": "python",
   "name": "python3"
  },
  "language_info": {
   "codemirror_mode": {
    "name": "ipython",
    "version": 3
   },
   "file_extension": ".py",
   "mimetype": "text/x-python",
   "name": "python",
   "nbconvert_exporter": "python",
   "pygments_lexer": "ipython3",
   "version": "3.11.2"
  },
  "orig_nbformat": 4,
  "vscode": {
   "interpreter": {
    "hash": "b92c64ddd97bd75b75879c676e53789d19cf25aafb287fcc8a3273f02b13a1d2"
   }
  }
 },
 "nbformat": 4,
 "nbformat_minor": 2
}
