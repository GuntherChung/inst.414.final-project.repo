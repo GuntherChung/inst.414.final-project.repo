{
 "cells": [
  {
   "attachments": {},
   "cell_type": "markdown",
   "metadata": {},
   "source": [
    "## This is a file to test methods on how to gather data using the \"Original dataset\" csv file that is in this Data folder."
   ]
  },
  {
   "cell_type": "code",
   "execution_count": 1,
   "metadata": {},
   "outputs": [],
   "source": [
    "import pandas as pd\n",
    "import requests\n",
    "import json"
   ]
  },
  {
   "attachments": {},
   "cell_type": "markdown",
   "metadata": {},
   "source": [
    "# Read Kaggle dataset, and extract the ISBN 13 for all the books"
   ]
  },
  {
   "cell_type": "code",
   "execution_count": 2,
   "metadata": {},
   "outputs": [
    {
     "data": {
      "text/plain": [
       "(11127,)"
      ]
     },
     "execution_count": 2,
     "metadata": {},
     "output_type": "execute_result"
    }
   ],
   "source": [
    "kaggle_data = pd.read_csv(\"books.csv\")  # read the Kaggle books dataset\n",
    "isbn_13 = kaggle_data['isbn13']         # extract the ISBN-13 column\n",
    "\n",
    "isbn_13.shape "
   ]
  },
  {
   "cell_type": "code",
   "execution_count": 3,
   "metadata": {},
   "outputs": [
    {
     "data": {
      "text/plain": [
       "0    9780439785969\n",
       "1    9780439358071\n",
       "2    9780439554893\n",
       "3    9780439655484\n",
       "4    9780439682589\n",
       "Name: isbn13, dtype: object"
      ]
     },
     "execution_count": 3,
     "metadata": {},
     "output_type": "execute_result"
    }
   ],
   "source": [
    "isbn_13.head(5)"
   ]
  },
  {
   "attachments": {},
   "cell_type": "markdown",
   "metadata": {},
   "source": [
    "# Get the books from the Google Books API using the ISNB-13s "
   ]
  },
  {
   "cell_type": "code",
   "execution_count": null,
   "metadata": {},
   "outputs": [],
   "source": [
    "# # create an empty list to store the book data\n",
    "# book_data_list = []\n",
    "# url_base = 'https://www.googleapis.com/books/v1/volumes?q=isbn:'\n",
    "\n",
    "# # iterate over the ISBN 13 numbers, and get the information we need using the Google Books API\n",
    "# for i, isbn in enumerate(isbn_13):\n",
    "\n",
    "#     # generate the URL for the Google Books API search \n",
    "#     url = url_base + isbn\n",
    "\n",
    "#     # get the book data; convert it to a dictionary using .json()\n",
    "#     book_data = requests.get(url).json()\n",
    "\n",
    "#     print(f'{i} {isbn}: {book_data.keys()}', end=': ')\n",
    "    \n",
    "#     if 'totalItems' in book_data and book_data['totalItems'] > 0:\n",
    "\n",
    "#         print(book_data['totalItems'], end=': ')\n",
    "#         print(book_data['items'][0]['volumeInfo']['title'], end='')\n",
    "#         # extract the relevant fields and create a new row in the DataFrame\n",
    "#         book = {\n",
    "#             'title': book_data['items'][0]['volumeInfo'].get('title', ''),\n",
    "#             'subtitle': book_data['items'][0]['volumeInfo'].get('subtitle', ''),\n",
    "#             'authors': book_data['items'][0]['volumeInfo'].get('authors', ''),\n",
    "#             'publisher': book_data['items'][0]['volumeInfo'].get('publisher', ''),\n",
    "#             'publishdate': book_data['items'][0]['volumeInfo'].get('publishedDate', ''),\n",
    "#             'description': book_data['items'][0]['volumeInfo'].get('description', ''),\n",
    "#             'isbn_13': isbn,\n",
    "#             'page_count': book_data['items'][0]['volumeInfo'].get('pageCount', ''),\n",
    "#             'main_categories': book_data['items'][0]['volumeInfo'].get('categories', ''),\n",
    "#             'categories': book_data['items'][0]['volumeInfo'].get('categories', ''),\n",
    "#             'average_rating': book_data['items'][0]['volumeInfo'].get('averageRating', ''),\n",
    "#             'ratings_count': book_data['items'][0]['volumeInfo'].get('ratingsCount', ''),\n",
    "#             'maturity_rating': book_data['items'][0]['volumeInfo'].get('maturityRating', '')\n",
    "#         }\n",
    "\n",
    "#         # append the new dictionary to the book_data_list\n",
    "#         book_data_list.append(book)\n",
    "#     else:\n",
    "\n",
    "#         # handle the case where no results were returned for the ISBN-13 number\n",
    "#         # print(f\"No results found for ISBN-13 {isbn}\")\n",
    "#         pass\n",
    "    \n",
    "#     print()\n",
    "\n",
    "# # convert the list of dictionaries to a DataFrame\n",
    "# response_df = pd.DataFrame(book_data_list)"
   ]
  },
  {
   "cell_type": "code",
   "execution_count": null,
   "metadata": {},
   "outputs": [],
   "source": [
    "# response_df"
   ]
  },
  {
   "cell_type": "code",
   "execution_count": null,
   "metadata": {},
   "outputs": [],
   "source": [
    "# response_df.to_csv('isbn13_results.csv')"
   ]
  },
  {
   "attachments": {},
   "cell_type": "markdown",
   "metadata": {},
   "source": [
    "Using Google Books API to fix missing data in Kaggle Dataset"
   ]
  },
  {
   "cell_type": "code",
   "execution_count": null,
   "metadata": {},
   "outputs": [],
   "source": [
    "# get the faulty ISBN\n",
    "isbn = isbn_13.loc[0]\n",
    "print(isbn)\n",
    "\n",
    "# url for the book\n",
    "url = f\"https://www.googleapis.com/books/v1/volumes?q=isbn:{isbn}\"\n",
    "\n",
    "# get the book\n",
    "response = requests.get(url)\n",
    "\n",
    "# convert the HTTP Response object to a dict\n",
    "json = response.json()\n",
    "\n",
    "# get the keys for the dict\n",
    "json.keys()"
   ]
  },
  {
   "cell_type": "code",
   "execution_count": null,
   "metadata": {},
   "outputs": [],
   "source": [
    "temp = temp"
   ]
  },
  {
   "cell_type": "code",
   "execution_count": null,
   "metadata": {},
   "outputs": [],
   "source": [
    "print(f'in_google: {in_google}\\nnot_in_google: {not_in_google}')"
   ]
  },
  {
   "cell_type": "code",
   "execution_count": null,
   "metadata": {},
   "outputs": [],
   "source": [
    "json['items'][0]['volumeInfo']"
   ]
  }
 ],
 "metadata": {
  "kernelspec": {
   "display_name": "Python 3",
   "language": "python",
   "name": "python3"
  },
  "language_info": {
   "codemirror_mode": {
    "name": "ipython",
    "version": 3
   },
   "file_extension": ".py",
   "mimetype": "text/x-python",
   "name": "python",
   "nbconvert_exporter": "python",
   "pygments_lexer": "ipython3",
   "version": "3.8.2"
  },
  "orig_nbformat": 4,
  "vscode": {
   "interpreter": {
    "hash": "aee8b7b246df8f9039afb4144a1f6fd8d2ca17a180786b69acc140d282b71a49"
   }
  }
 },
 "nbformat": 4,
 "nbformat_minor": 2
}
