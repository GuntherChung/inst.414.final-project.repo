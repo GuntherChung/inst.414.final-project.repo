{
 "cells": [
  {
   "attachments": {},
   "cell_type": "markdown",
   "metadata": {},
   "source": [
    "## This is a file to test methods on how to gather data using the \"Original dataset\" csv file that is in this Data folder."
   ]
  },
  {
   "cell_type": "code",
   "execution_count": 90,
   "metadata": {},
   "outputs": [],
   "source": [
    "import pandas as pd\n",
    "import requests\n",
    "import json"
   ]
  },
  {
   "attachments": {},
   "cell_type": "markdown",
   "metadata": {},
   "source": [
    "# Read Kaggle dataset, and extract the ISBN 13 for all the books"
   ]
  },
  {
   "cell_type": "code",
   "execution_count": 91,
   "metadata": {},
   "outputs": [
    {
     "data": {
      "text/plain": [
       "0    9780439785969\n",
       "1    9780439358071\n",
       "2    9780439554893\n",
       "3    9780439655484\n",
       "4    9780439682589\n",
       "Name: isbn13, dtype: object"
      ]
     },
     "execution_count": 91,
     "metadata": {},
     "output_type": "execute_result"
    }
   ],
   "source": [
    "kaggle_data = pd.read_csv(\"books.csv\")  # read the Kaggle books dataset\n",
    "isbn_13 = kaggle_data['isbn13']         # extract the ISBN-13 column\n",
    "\n",
    "isbn_13.head(5)"
   ]
  },
  {
   "attachments": {},
   "cell_type": "markdown",
   "metadata": {},
   "source": [
    "# Get the books from the Google Books API using the ISNB-13s "
   ]
  },
  {
   "cell_type": "code",
   "execution_count": 133,
   "metadata": {},
   "outputs": [
    {
     "name": "stdout",
     "output_type": "stream",
     "text": [
      "0 9780439785969\n",
      "No results found for ISBN-13 9780439785969\n",
      "1 9780439358071\n",
      "No results found for ISBN-13 9780439358071\n",
      "2 9780439554893\n",
      "3 9780439655484\n",
      "4 9780439682589\n",
      "5 9780976540601\n",
      "6 9780439827607\n",
      "7 9780517226957\n"
     ]
    },
    {
     "ename": "IndexError",
     "evalue": "list index out of range",
     "output_type": "error",
     "traceback": [
      "\u001b[0;31m---------------------------------------------------------------------------\u001b[0m",
      "\u001b[0;31mIndexError\u001b[0m                                Traceback (most recent call last)",
      "\u001b[0;32m/var/folders/w2/c53crljd2y523fsqplb9bml00000gp/T/ipykernel_6462/525116354.py\u001b[0m in \u001b[0;36m<module>\u001b[0;34m\u001b[0m\n\u001b[1;32m     23\u001b[0m             \u001b[0;34m'description'\u001b[0m\u001b[0;34m:\u001b[0m \u001b[0mbook_data\u001b[0m\u001b[0;34m[\u001b[0m\u001b[0;34m'items'\u001b[0m\u001b[0;34m]\u001b[0m\u001b[0;34m[\u001b[0m\u001b[0;36m0\u001b[0m\u001b[0;34m]\u001b[0m\u001b[0;34m[\u001b[0m\u001b[0;34m'volumeInfo'\u001b[0m\u001b[0;34m]\u001b[0m\u001b[0;34m.\u001b[0m\u001b[0mget\u001b[0m\u001b[0;34m(\u001b[0m\u001b[0;34m'description'\u001b[0m\u001b[0;34m,\u001b[0m \u001b[0;34m''\u001b[0m\u001b[0;34m)\u001b[0m\u001b[0;34m,\u001b[0m\u001b[0;34m\u001b[0m\u001b[0;34m\u001b[0m\u001b[0m\n\u001b[1;32m     24\u001b[0m             \u001b[0;34m'isbn_10'\u001b[0m\u001b[0;34m:\u001b[0m \u001b[0mbook_data\u001b[0m\u001b[0;34m[\u001b[0m\u001b[0;34m'items'\u001b[0m\u001b[0;34m]\u001b[0m\u001b[0;34m[\u001b[0m\u001b[0;36m0\u001b[0m\u001b[0;34m]\u001b[0m\u001b[0;34m[\u001b[0m\u001b[0;34m'volumeInfo'\u001b[0m\u001b[0;34m]\u001b[0m\u001b[0;34m.\u001b[0m\u001b[0mget\u001b[0m\u001b[0;34m(\u001b[0m\u001b[0;34m'industryIdentifiers'\u001b[0m\u001b[0;34m,\u001b[0m \u001b[0;34m[\u001b[0m\u001b[0;34m{\u001b[0m\u001b[0;34m'type'\u001b[0m\u001b[0;34m:\u001b[0m \u001b[0;34m''\u001b[0m\u001b[0;34m,\u001b[0m \u001b[0;34m'identifier'\u001b[0m\u001b[0;34m:\u001b[0m \u001b[0;34m''\u001b[0m\u001b[0;34m}\u001b[0m\u001b[0;34m]\u001b[0m\u001b[0;34m)\u001b[0m\u001b[0;34m[\u001b[0m\u001b[0;36m0\u001b[0m\u001b[0;34m]\u001b[0m\u001b[0;34m.\u001b[0m\u001b[0mget\u001b[0m\u001b[0;34m(\u001b[0m\u001b[0;34m'identifier'\u001b[0m\u001b[0;34m,\u001b[0m \u001b[0;34m''\u001b[0m\u001b[0;34m)\u001b[0m\u001b[0;34m,\u001b[0m\u001b[0;34m\u001b[0m\u001b[0;34m\u001b[0m\u001b[0m\n\u001b[0;32m---> 25\u001b[0;31m             \u001b[0;34m'isbn_13'\u001b[0m\u001b[0;34m:\u001b[0m \u001b[0mbook_data\u001b[0m\u001b[0;34m[\u001b[0m\u001b[0;34m'items'\u001b[0m\u001b[0;34m]\u001b[0m\u001b[0;34m[\u001b[0m\u001b[0;36m0\u001b[0m\u001b[0;34m]\u001b[0m\u001b[0;34m[\u001b[0m\u001b[0;34m'volumeInfo'\u001b[0m\u001b[0;34m]\u001b[0m\u001b[0;34m.\u001b[0m\u001b[0mget\u001b[0m\u001b[0;34m(\u001b[0m\u001b[0;34m'industryIdentifiers'\u001b[0m\u001b[0;34m,\u001b[0m \u001b[0;34m[\u001b[0m\u001b[0;34m{\u001b[0m\u001b[0;34m'type'\u001b[0m\u001b[0;34m:\u001b[0m \u001b[0;34m''\u001b[0m\u001b[0;34m,\u001b[0m \u001b[0;34m'identifier'\u001b[0m\u001b[0;34m:\u001b[0m \u001b[0;34m''\u001b[0m\u001b[0;34m}\u001b[0m\u001b[0;34m]\u001b[0m\u001b[0;34m)\u001b[0m\u001b[0;34m[\u001b[0m\u001b[0;36m1\u001b[0m\u001b[0;34m]\u001b[0m\u001b[0;34m.\u001b[0m\u001b[0mget\u001b[0m\u001b[0;34m(\u001b[0m\u001b[0;34m'identifier'\u001b[0m\u001b[0;34m,\u001b[0m \u001b[0;34m''\u001b[0m\u001b[0;34m)\u001b[0m\u001b[0;34m,\u001b[0m\u001b[0;34m\u001b[0m\u001b[0;34m\u001b[0m\u001b[0m\n\u001b[0m\u001b[1;32m     26\u001b[0m             \u001b[0;34m'page_count'\u001b[0m\u001b[0;34m:\u001b[0m \u001b[0mbook_data\u001b[0m\u001b[0;34m[\u001b[0m\u001b[0;34m'items'\u001b[0m\u001b[0;34m]\u001b[0m\u001b[0;34m[\u001b[0m\u001b[0;36m0\u001b[0m\u001b[0;34m]\u001b[0m\u001b[0;34m[\u001b[0m\u001b[0;34m'volumeInfo'\u001b[0m\u001b[0;34m]\u001b[0m\u001b[0;34m.\u001b[0m\u001b[0mget\u001b[0m\u001b[0;34m(\u001b[0m\u001b[0;34m'pageCount'\u001b[0m\u001b[0;34m,\u001b[0m \u001b[0;34m''\u001b[0m\u001b[0;34m)\u001b[0m\u001b[0;34m,\u001b[0m\u001b[0;34m\u001b[0m\u001b[0;34m\u001b[0m\u001b[0m\n\u001b[1;32m     27\u001b[0m             \u001b[0;34m'main_categories'\u001b[0m\u001b[0;34m:\u001b[0m \u001b[0mbook_data\u001b[0m\u001b[0;34m[\u001b[0m\u001b[0;34m'items'\u001b[0m\u001b[0;34m]\u001b[0m\u001b[0;34m[\u001b[0m\u001b[0;36m0\u001b[0m\u001b[0;34m]\u001b[0m\u001b[0;34m[\u001b[0m\u001b[0;34m'volumeInfo'\u001b[0m\u001b[0;34m]\u001b[0m\u001b[0;34m.\u001b[0m\u001b[0mget\u001b[0m\u001b[0;34m(\u001b[0m\u001b[0;34m'categories'\u001b[0m\u001b[0;34m,\u001b[0m \u001b[0;34m''\u001b[0m\u001b[0;34m)\u001b[0m\u001b[0;34m,\u001b[0m\u001b[0;34m\u001b[0m\u001b[0;34m\u001b[0m\u001b[0m\n",
      "\u001b[0;31mIndexError\u001b[0m: list index out of range"
     ]
    }
   ],
   "source": [
    "# create an empty list to store the book data\n",
    "book_data_list = []\n",
    "url_base = 'https://www.googleapis.com/books/v1/volumes?q=isbn:'\n",
    "\n",
    "# iterate over the ISBN 13 numbers, and get the information we need using the Google Books API\n",
    "for i, isbn in enumerate(isbn_13):\n",
    "    print(i, isbn)\n",
    "\n",
    "    # generate the URL for the Google Books API search \n",
    "    url = url_base + isbn\n",
    "\n",
    "    # get the book data; convert it to a dictionary using .json()\n",
    "    book_data = requests.get(url).json()\n",
    "    \n",
    "    if 'totalItems' in book_data and book_data['totalItems'] > 0:\n",
    "        # extract the relevant fields and create a new row in the DataFrame\n",
    "        book = {\n",
    "            'title': book_data['items'][0]['volumeInfo'].get('title', ''),\n",
    "            'subtitle': book_data['items'][0]['volumeInfo'].get('subtitle', ''),\n",
    "            'authors': book_data['items'][0]['volumeInfo'].get('authors', ''),\n",
    "            'publisher': book_data['items'][0]['volumeInfo'].get('publisher', ''),\n",
    "            'publishdate': book_data['items'][0]['volumeInfo'].get('publishedDate', ''),\n",
    "            'description': book_data['items'][0]['volumeInfo'].get('description', ''),\n",
    "            'isbn_10': book_data['items'][0]['volumeInfo'].get('industryIdentifiers', [{'type': '', 'identifier': ''}])[0].get('identifier', ''),\n",
    "            'isbn_13': book_data['items'][0]['volumeInfo'].get('industryIdentifiers', [{'type': '', 'identifier': ''}])[1].get('identifier', ''),\n",
    "            'page_count': book_data['items'][0]['volumeInfo'].get('pageCount', ''),\n",
    "            'main_categories': book_data['items'][0]['volumeInfo'].get('categories', ''),\n",
    "            'categories': book_data['items'][0]['volumeInfo'].get('categories', ''),\n",
    "            'average_rating': book_data['items'][0]['volumeInfo'].get('averageRating', ''),\n",
    "            'ratings_count': book_data['items'][0]['volumeInfo'].get('ratingsCount', ''),\n",
    "            'maturity_rating': book_data['items'][0]['volumeInfo'].get('maturityRating', '')\n",
    "        }\n",
    "\n",
    "        # append the new dictionary to the book_data_list\n",
    "        book_data_list.append(book)\n",
    "    else:\n",
    "            # handle the case where no results were returned for the ISBN-13 number\n",
    "        print(f\"No results found for ISBN-13 {isbn}\")\n",
    "\n",
    "# convert the list of dictionaries to a DataFrame\n",
    "response_df = pd.DataFrame(book_data_list)"
   ]
  },
  {
   "attachments": {},
   "cell_type": "markdown",
   "metadata": {},
   "source": [
    "Using Google Books API to fix missing data in Kaggle Dataset"
   ]
  },
  {
   "cell_type": "code",
   "execution_count": 130,
   "metadata": {},
   "outputs": [
    {
     "data": {
      "text/plain": [
       "dict_keys(['kind', 'totalItems', 'items'])"
      ]
     },
     "execution_count": 130,
     "metadata": {},
     "output_type": "execute_result"
    }
   ],
   "source": [
    "# get the faulty ISBN\n",
    "isbn = isbn_13.iloc[21] \n",
    "\n",
    "# url for the book\n",
    "url = f\"https://www.googleapis.com/books/v1/volumes?q=isbn:{isbn}\"\n",
    "\n",
    "# get the book\n",
    "response = requests.get(url)\n",
    "\n",
    "# convert the HTTP Response object to a dict\n",
    "json = response.json()\n",
    "\n",
    "# get the keys for the dict\n",
    "json.keys()"
   ]
  },
  {
   "cell_type": "code",
   "execution_count": 129,
   "metadata": {},
   "outputs": [
    {
     "data": {
      "text/plain": [
       "{'kind': 'books#volume',\n",
       " 'id': 'XBaNEAAAQBAJ',\n",
       " 'etag': 'E6G2h794Cik',\n",
       " 'selfLink': 'https://www.googleapis.com/books/v1/volumes/XBaNEAAAQBAJ',\n",
       " 'volumeInfo': {'title': 'The Hobbit / The Lord of the Rings',\n",
       "  'subtitle': 'The Hobbit / The Fellowship of the Ring / The Two Towers / The Return of the King',\n",
       "  'authors': ['John Ronald Reuel Tolkien'],\n",
       "  'publisher': 'National Geographic Books',\n",
       "  'publishedDate': '2012-09-25',\n",
       "  'description': 'Presents a box set including the complete \"Lord of the Rings\" trilogy, as well as its prequel, \"The Hobbit.\"',\n",
       "  'industryIdentifiers': [{'type': 'ISBN_13', 'identifier': '9780345538376'},\n",
       "   {'type': 'ISBN_10', 'identifier': '0345538374'}],\n",
       "  'readingModes': {'text': True, 'image': False},\n",
       "  'pageCount': 0,\n",
       "  'printType': 'BOOK',\n",
       "  'categories': ['Fiction'],\n",
       "  'averageRating': 4,\n",
       "  'ratingsCount': 7,\n",
       "  'maturityRating': 'NOT_MATURE',\n",
       "  'allowAnonLogging': False,\n",
       "  'contentVersion': 'preview-1.0.0',\n",
       "  'panelizationSummary': {'containsEpubBubbles': False,\n",
       "   'containsImageBubbles': False},\n",
       "  'imageLinks': {'smallThumbnail': 'http://books.google.com/books/content?id=XBaNEAAAQBAJ&printsec=frontcover&img=1&zoom=5&source=gbs_api',\n",
       "   'thumbnail': 'http://books.google.com/books/content?id=XBaNEAAAQBAJ&printsec=frontcover&img=1&zoom=1&source=gbs_api'},\n",
       "  'language': 'en',\n",
       "  'previewLink': 'http://books.google.com/books?id=XBaNEAAAQBAJ&dq=isbn:9780345538376&hl=&cd=1&source=gbs_api',\n",
       "  'infoLink': 'http://books.google.com/books?id=XBaNEAAAQBAJ&dq=isbn:9780345538376&hl=&source=gbs_api',\n",
       "  'canonicalVolumeLink': 'https://books.google.com/books/about/The_Hobbit_The_Lord_of_the_Rings.html?hl=&id=XBaNEAAAQBAJ'},\n",
       " 'saleInfo': {'country': 'US',\n",
       "  'saleability': 'NOT_FOR_SALE',\n",
       "  'isEbook': False},\n",
       " 'accessInfo': {'country': 'US',\n",
       "  'viewability': 'NO_PAGES',\n",
       "  'embeddable': False,\n",
       "  'publicDomain': False,\n",
       "  'textToSpeechPermission': 'ALLOWED',\n",
       "  'epub': {'isAvailable': False},\n",
       "  'pdf': {'isAvailable': False},\n",
       "  'webReaderLink': 'http://play.google.com/books/reader?id=XBaNEAAAQBAJ&hl=&source=gbs_api',\n",
       "  'accessViewStatus': 'NONE',\n",
       "  'quoteSharingAllowed': False},\n",
       " 'searchInfo': {'textSnippet': 'As the evil of Sauron swarms out to take over Middle-earth, Frodo Baggins and Sam travel deep into Mordor still trying to get the Ring of Power to Mount Doom where it can be destroyed.'}}"
      ]
     },
     "execution_count": 129,
     "metadata": {},
     "output_type": "execute_result"
    }
   ],
   "source": [
    "json['items'][0]"
   ]
  }
 ],
 "metadata": {
  "kernelspec": {
   "display_name": "Python 3",
   "language": "python",
   "name": "python3"
  },
  "language_info": {
   "codemirror_mode": {
    "name": "ipython",
    "version": 3
   },
   "file_extension": ".py",
   "mimetype": "text/x-python",
   "name": "python",
   "nbconvert_exporter": "python",
   "pygments_lexer": "ipython3",
   "version": "3.11.2"
  },
  "orig_nbformat": 4,
  "vscode": {
   "interpreter": {
    "hash": "aee8b7b246df8f9039afb4144a1f6fd8d2ca17a180786b69acc140d282b71a49"
   }
  }
 },
 "nbformat": 4,
 "nbformat_minor": 2
}
