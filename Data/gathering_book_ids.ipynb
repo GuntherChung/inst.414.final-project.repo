{
 "cells": [
  {
   "cell_type": "code",
   "execution_count": 2,
   "metadata": {},
   "outputs": [],
   "source": [
    "import pandas as pd\n",
    "import pprint\n",
    "import requests\n",
    "import json"
   ]
  },
  {
   "attachments": {},
   "cell_type": "markdown",
   "metadata": {},
   "source": [
    "# Getting book ids"
   ]
  },
  {
   "cell_type": "code",
   "execution_count": 3,
   "metadata": {},
   "outputs": [],
   "source": [
    "def get_book_id(isbn):\n",
    "    url = f\"https://www.googleapis.com/books/v1/volumes?q=isbn:{isbn}\"\n",
    "    response = requests.get(url)\n",
    "    if response.status_code == 200:\n",
    "        book_data = response.json()\n",
    "        if 'items' in book_data:\n",
    "            return book_data['items'][0]['id']\n",
    "    return None"
   ]
  },
  {
   "attachments": {},
   "cell_type": "markdown",
   "metadata": {},
   "source": [
    "# Retrieving book ID values with ISBN13"
   ]
  },
  {
   "cell_type": "code",
   "execution_count": 45,
   "metadata": {},
   "outputs": [
    {
     "name": "stdout",
     "output_type": "stream",
     "text": [
      "0                None\n",
      "1                None\n",
      "2        h2Y-PgAACAAJ\n",
      "3        FBXRzgEACAAJ\n",
      "4        DAAAAAAACAAJ\n",
      "             ...     \n",
      "11122            None\n",
      "11123    d0buAAAAMAAJ\n",
      "11124            None\n",
      "11125            None\n",
      "11126            None\n",
      "Name: isbn13, Length: 11127, dtype: object\n"
     ]
    },
    {
     "name": "stderr",
     "output_type": "stream",
     "text": [
      "C:\\Users\\danie\\AppData\\Local\\Temp\\ipykernel_59120\\67998637.py:6: SettingWithCopyWarning: \n",
      "A value is trying to be set on a copy of a slice from a DataFrame\n",
      "\n",
      "See the caveats in the documentation: https://pandas.pydata.org/pandas-docs/stable/user_guide/indexing.html#returning-a-view-versus-a-copy\n",
      "  isbn_13['book_id'] = book_ids\n"
     ]
    }
   ],
   "source": [
    "kaggle_data = pd.read_csv(\"books.csv\")\n",
    "isbn_13 = kaggle_data['isbn13']\n",
    "book_ids = isbn_13.apply(get_book_id)\n",
    "\n",
    "print(book_ids)"
   ]
  },
  {
   "cell_type": "code",
   "execution_count": 55,
   "metadata": {},
   "outputs": [
    {
     "data": {
      "text/plain": [
       "(11127,)"
      ]
     },
     "execution_count": 55,
     "metadata": {},
     "output_type": "execute_result"
    }
   ],
   "source": [
    "book_ids.shape"
   ]
  },
  {
   "cell_type": "code",
   "execution_count": 56,
   "metadata": {},
   "outputs": [
    {
     "name": "stdout",
     "output_type": "stream",
     "text": [
      "Number of missing book IDs: 8437\n"
     ]
    }
   ],
   "source": [
    "# count the number of missing book IDs\n",
    "num_missing = book_ids.isna().sum()\n",
    "\n",
    "print(f\"Number of missing book IDs: {num_missing}\")"
   ]
  },
  {
   "cell_type": "code",
   "execution_count": 73,
   "metadata": {},
   "outputs": [
    {
     "data": {
      "text/plain": [
       "0       h2Y-PgAACAAJ\n",
       "1       FBXRzgEACAAJ\n",
       "2       DAAAAAAACAAJ\n",
       "3       LH5C9q83T6wC\n",
       "4       62CEzQEACAAJ\n",
       "            ...     \n",
       "2685    tcWMPAAACAAJ\n",
       "2686    O2JfAAAAMAAJ\n",
       "2687    y4kgSgAACAAJ\n",
       "2688    TaQZzgEACAAJ\n",
       "2689    d0buAAAAMAAJ\n",
       "Name: isbn13, Length: 2690, dtype: object"
      ]
     },
     "execution_count": 73,
     "metadata": {},
     "output_type": "execute_result"
    }
   ],
   "source": [
    "# Pulling only the not None rows\n",
    "not_none = book_ids.notna()\n",
    "Final_book_ids = book_ids[not_none]\n",
    "Final_book_ids = Final_book_ids.reset_index(drop=True)\n",
    "Final_book_ids"
   ]
  },
  {
   "cell_type": "code",
   "execution_count": 69,
   "metadata": {},
   "outputs": [],
   "source": [
    "# Exporting Final_book_ids so i dont accidentally erase the data\n",
    "Final_book_ids.to_csv('isbn13_book_ids.csv', index=False)"
   ]
  },
  {
   "attachments": {},
   "cell_type": "markdown",
   "metadata": {},
   "source": [
    "# Testing Regular ISBN numbers instead of isbn13"
   ]
  },
  {
   "cell_type": "code",
   "execution_count": 4,
   "metadata": {},
   "outputs": [
    {
     "name": "stdout",
     "output_type": "stream",
     "text": [
      "0                None\n",
      "1                None\n",
      "2                None\n",
      "3        FBXRzgEACAAJ\n",
      "4                None\n",
      "             ...     \n",
      "11122            None\n",
      "11123            None\n",
      "11124            None\n",
      "11125            None\n",
      "11126            None\n",
      "Name: isbn, Length: 11127, dtype: object\n"
     ]
    }
   ],
   "source": [
    "kaggle_data = pd.read_csv(\"books.csv\")\n",
    "isbn = kaggle_data['isbn']\n",
    "book_ids_isbn = isbn.apply(get_book_id)\n",
    "\n",
    "print(book_ids_isbn)"
   ]
  },
  {
   "cell_type": "code",
   "execution_count": 5,
   "metadata": {},
   "outputs": [
    {
     "data": {
      "text/plain": [
       "(11127,)"
      ]
     },
     "execution_count": 5,
     "metadata": {},
     "output_type": "execute_result"
    }
   ],
   "source": [
    "book_ids_isbn.shape"
   ]
  },
  {
   "cell_type": "code",
   "execution_count": 6,
   "metadata": {},
   "outputs": [
    {
     "name": "stdout",
     "output_type": "stream",
     "text": [
      "Number of missing book IDs: 10328\n"
     ]
    }
   ],
   "source": [
    "# count the number of missing book IDs\n",
    "num_missing_isbn = book_ids_isbn.isna().sum()\n",
    "\n",
    "print(f\"Number of missing book IDs: {num_missing_isbn}\")"
   ]
  },
  {
   "cell_type": "code",
   "execution_count": 8,
   "metadata": {},
   "outputs": [
    {
     "data": {
      "text/plain": [
       "0      FBXRzgEACAAJ\n",
       "1      yyxXzQEACAAJ\n",
       "2      YjAnfhsAQ8wC\n",
       "3      xb4wSmJLnhAC\n",
       "4      Qq9nQgAACAAJ\n",
       "           ...     \n",
       "794    98-cPQAACAAJ\n",
       "795    RZbQPAAACAAJ\n",
       "796    4tuEuAAACAAJ\n",
       "797    dmqguAAACAAJ\n",
       "798    DiJVzwEACAAJ\n",
       "Name: isbn, Length: 799, dtype: object"
      ]
     },
     "execution_count": 8,
     "metadata": {},
     "output_type": "execute_result"
    }
   ],
   "source": [
    "# Pulling only the not None rows\n",
    "not_none = book_ids_isbn.notna()\n",
    "\n",
    "Final_book_isbn_ids = book_ids_isbn[not_none]\n",
    "\n",
    "Final_book_isbn_ids = Final_book_isbn_ids.reset_index(drop=True)\n",
    "\n",
    "Final_book_isbn_ids"
   ]
  },
  {
   "cell_type": "code",
   "execution_count": 9,
   "metadata": {},
   "outputs": [],
   "source": [
    "# Exporting Final_book_ids so i dont accidentally erase the data\n",
    "Final_book_isbn_ids.to_csv('isbn_book_ids.csv', index=False)"
   ]
  },
  {
   "attachments": {},
   "cell_type": "markdown",
   "metadata": {},
   "source": [
    "# Merging both results"
   ]
  },
  {
   "cell_type": "code",
   "execution_count": 15,
   "metadata": {},
   "outputs": [],
   "source": [
    "isbn_csv = pd.read_csv(\"isbn_book_ids.csv\")\n",
    "isbn13_csv = pd.read_csv(\"isbn13_book_ids.csv\")\n"
   ]
  },
  {
   "cell_type": "code",
   "execution_count": 21,
   "metadata": {},
   "outputs": [
    {
     "name": "stdout",
     "output_type": "stream",
     "text": [
      "------- isbn -------\n",
      "             isbn\n",
      "0    FBXRzgEACAAJ\n",
      "1    yyxXzQEACAAJ\n",
      "2    YjAnfhsAQ8wC\n",
      "3    xb4wSmJLnhAC\n",
      "4    Qq9nQgAACAAJ\n",
      "..            ...\n",
      "794  98-cPQAACAAJ\n",
      "795  RZbQPAAACAAJ\n",
      "796  4tuEuAAACAAJ\n",
      "797  dmqguAAACAAJ\n",
      "798  DiJVzwEACAAJ\n",
      "\n",
      "[799 rows x 1 columns]\n",
      "Index(['isbn'], dtype='object')\n",
      "\n",
      "------- isbn13 -------\n",
      "            isbn13\n",
      "0     h2Y-PgAACAAJ\n",
      "1     FBXRzgEACAAJ\n",
      "2     DAAAAAAACAAJ\n",
      "3     LH5C9q83T6wC\n",
      "4     62CEzQEACAAJ\n",
      "...            ...\n",
      "2685  tcWMPAAACAAJ\n",
      "2686  O2JfAAAAMAAJ\n",
      "2687  y4kgSgAACAAJ\n",
      "2688  TaQZzgEACAAJ\n",
      "2689  d0buAAAAMAAJ\n",
      "\n",
      "[2690 rows x 1 columns]\n",
      "Index(['isbn13'], dtype='object')\n"
     ]
    }
   ],
   "source": [
    "print(\"------- isbn -------\")\n",
    "print(isbn_csv)\n",
    "print(isbn_csv.columns)\n",
    "print(\"\\n------- isbn13 -------\")\n",
    "print(isbn13_csv)\n",
    "print(isbn13_csv.columns)"
   ]
  },
  {
   "cell_type": "code",
   "execution_count": 60,
   "metadata": {},
   "outputs": [],
   "source": [
    "isbn_df = pd.DataFrame(isbn_csv)\n",
    "isbn_df = isbn_df.rename(columns={'isbn': 'book_id'})\n",
    "\n",
    "isbn13_df = pd.DataFrame(isbn13_csv)\n",
    "isbn13_df = isbn13_df.rename(columns={'isbn13': 'book_id'})\n"
   ]
  },
  {
   "cell_type": "code",
   "execution_count": 68,
   "metadata": {},
   "outputs": [
    {
     "data": {
      "text/html": [
       "<div>\n",
       "<style scoped>\n",
       "    .dataframe tbody tr th:only-of-type {\n",
       "        vertical-align: middle;\n",
       "    }\n",
       "\n",
       "    .dataframe tbody tr th {\n",
       "        vertical-align: top;\n",
       "    }\n",
       "\n",
       "    .dataframe thead th {\n",
       "        text-align: right;\n",
       "    }\n",
       "</style>\n",
       "<table border=\"1\" class=\"dataframe\">\n",
       "  <thead>\n",
       "    <tr style=\"text-align: right;\">\n",
       "      <th></th>\n",
       "      <th>book_id</th>\n",
       "    </tr>\n",
       "  </thead>\n",
       "  <tbody>\n",
       "    <tr>\n",
       "      <th>0</th>\n",
       "      <td>FBXRzgEACAAJ</td>\n",
       "    </tr>\n",
       "    <tr>\n",
       "      <th>1</th>\n",
       "      <td>yyxXzQEACAAJ</td>\n",
       "    </tr>\n",
       "    <tr>\n",
       "      <th>2</th>\n",
       "      <td>YjAnfhsAQ8wC</td>\n",
       "    </tr>\n",
       "    <tr>\n",
       "      <th>3</th>\n",
       "      <td>xb4wSmJLnhAC</td>\n",
       "    </tr>\n",
       "    <tr>\n",
       "      <th>4</th>\n",
       "      <td>Qq9nQgAACAAJ</td>\n",
       "    </tr>\n",
       "    <tr>\n",
       "      <th>...</th>\n",
       "      <td>...</td>\n",
       "    </tr>\n",
       "    <tr>\n",
       "      <th>3282</th>\n",
       "      <td>tcWMPAAACAAJ</td>\n",
       "    </tr>\n",
       "    <tr>\n",
       "      <th>3283</th>\n",
       "      <td>O2JfAAAAMAAJ</td>\n",
       "    </tr>\n",
       "    <tr>\n",
       "      <th>3284</th>\n",
       "      <td>y4kgSgAACAAJ</td>\n",
       "    </tr>\n",
       "    <tr>\n",
       "      <th>3285</th>\n",
       "      <td>TaQZzgEACAAJ</td>\n",
       "    </tr>\n",
       "    <tr>\n",
       "      <th>3286</th>\n",
       "      <td>d0buAAAAMAAJ</td>\n",
       "    </tr>\n",
       "  </tbody>\n",
       "</table>\n",
       "<p>3287 rows × 1 columns</p>\n",
       "</div>"
      ],
      "text/plain": [
       "           book_id\n",
       "0     FBXRzgEACAAJ\n",
       "1     yyxXzQEACAAJ\n",
       "2     YjAnfhsAQ8wC\n",
       "3     xb4wSmJLnhAC\n",
       "4     Qq9nQgAACAAJ\n",
       "...            ...\n",
       "3282  tcWMPAAACAAJ\n",
       "3283  O2JfAAAAMAAJ\n",
       "3284  y4kgSgAACAAJ\n",
       "3285  TaQZzgEACAAJ\n",
       "3286  d0buAAAAMAAJ\n",
       "\n",
       "[3287 rows x 1 columns]"
      ]
     },
     "execution_count": 68,
     "metadata": {},
     "output_type": "execute_result"
    }
   ],
   "source": [
    "# Concatenate the dataframes\n",
    "merged_df = pd.concat([isbn_df, isbn13_df])\n",
    "\n",
    "# Drop duplicates based on the 'book_id' column\n",
    "merged_df = merged_df.drop_duplicates(subset=['book_id'])\n",
    "\n",
    "# Reset the index\n",
    "merged_df = merged_df.reset_index(drop=True)\n",
    "merged_df"
   ]
  },
  {
   "cell_type": "code",
   "execution_count": null,
   "metadata": {},
   "outputs": [],
   "source": [
    "# Exporting merged_df so i dont accidentally erase the data\n",
    "merged_df.to_csv('all_book_ids.csv', index=False)"
   ]
  }
 ],
 "metadata": {
  "kernelspec": {
   "display_name": "Python 3",
   "language": "python",
   "name": "python3"
  },
  "language_info": {
   "codemirror_mode": {
    "name": "ipython",
    "version": 3
   },
   "file_extension": ".py",
   "mimetype": "text/x-python",
   "name": "python",
   "nbconvert_exporter": "python",
   "pygments_lexer": "ipython3",
   "version": "3.11.3"
  },
  "orig_nbformat": 4
 },
 "nbformat": 4,
 "nbformat_minor": 2
}
