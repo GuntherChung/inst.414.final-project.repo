{
 "cells": [
  {
   "attachments": {},
   "cell_type": "markdown",
   "metadata": {},
   "source": [
    "## This is a file to test methods on how to gather data using the \"Original dataset\" csv file that is in this Data folder."
   ]
  },
  {
   "cell_type": "code",
   "execution_count": 1,
   "metadata": {},
   "outputs": [],
   "source": [
    "import pandas as pd\n",
    "import requests\n",
    "import json\n",
    "import spacy\n"
   ]
  },
  {
   "attachments": {},
   "cell_type": "markdown",
   "metadata": {},
   "source": [
    "## testing endpoint"
   ]
  },
  {
   "cell_type": "code",
   "execution_count": 12,
   "metadata": {},
   "outputs": [],
   "source": [
    "book_id = \"FBXRzgEACAAJ\"\n",
    "url = f\"https://www.googleapis.com/books/v1/volumes/{book_id}\"\n",
    "response = requests.get(url)\n",
    "\n",
    "if response.status_code == 200:\n",
    "    book_data = response.json()\n",
    "    # do something with the book data\n",
    "else:\n",
    "    print(\"Error:\", response.status_code)"
   ]
  },
  {
   "cell_type": "code",
   "execution_count": 13,
   "metadata": {},
   "outputs": [
    {
     "data": {
      "text/plain": [
       "{'title': 'Harry Potter and the Prisoner of Azkaban',\n",
       " 'authors': ['J. K. Rowling'],\n",
       " 'publisher': 'Scholastic, Incorporated',\n",
       " 'publishedDate': '2004',\n",
       " 'description': 'Harry Potter has to sneak back to Hogwarts, after accidentally inflating his horrible Aunt Petunia. But once there everyone is whispering about a prizoner who has escaped from the famous wizard prizon, Azkaban. His name is Sirius Black, and as a follower of Lord Voldemort he is determined to track Harry Potter down -- even if it means laying siege to the very walls of Hogwarts!',\n",
       " 'industryIdentifiers': [{'type': 'ISBN_10', 'identifier': '043965548X'},\n",
       "  {'type': 'ISBN_13', 'identifier': '9780439655484'}],\n",
       " 'readingModes': {'text': False, 'image': False},\n",
       " 'pageCount': 547,\n",
       " 'printedPageCount': 547,\n",
       " 'dimensions': {'height': '17.00 cm',\n",
       "  'width': '9.50 cm',\n",
       "  'thickness': '3.20 cm'},\n",
       " 'printType': 'BOOK',\n",
       " 'categories': ['Juvenile Fiction / Fantasy & Magic'],\n",
       " 'averageRating': 4.5,\n",
       " 'ratingsCount': 2122,\n",
       " 'maturityRating': 'NOT_MATURE',\n",
       " 'allowAnonLogging': False,\n",
       " 'contentVersion': 'preview-1.0.0',\n",
       " 'panelizationSummary': {'containsEpubBubbles': False,\n",
       "  'containsImageBubbles': False},\n",
       " 'imageLinks': {'smallThumbnail': 'http://books.google.com/books/content?id=FBXRzgEACAAJ&printsec=frontcover&img=1&zoom=5&imgtk=AFLRE71ci__rl1STOpouygirJGdCWVSbVjGxKZM0MmFxnbLdA78V4grfqwCl70M8iMYz5vu4Qkd4DPf5ltkPASjXNb7mNjO2uJymp0SMPOTxMYM_8fYSTn-XjomVTt4FbMPHxNcd9t4_&source=gbs_api',\n",
       "  'thumbnail': 'http://books.google.com/books/content?id=FBXRzgEACAAJ&printsec=frontcover&img=1&zoom=1&imgtk=AFLRE731_Mi9AsQc_U03spLtoa0ai0WXYO2nJJ3O-KWis65u227w_i_Wc-w73ydVQ0fhnwukQoCISnIX53my8krkiCA8edBV7pFYAslFLYM4nOJwR8LCfc9u_OzFcimKMPsX17nC3cBy&source=gbs_api'},\n",
       " 'language': 'en',\n",
       " 'previewLink': 'http://books.google.com/books?id=FBXRzgEACAAJ&hl=&source=gbs_api',\n",
       " 'infoLink': 'https://play.google.com/store/books/details?id=FBXRzgEACAAJ&source=gbs_api',\n",
       " 'canonicalVolumeLink': 'https://play.google.com/store/books/details?id=FBXRzgEACAAJ'}"
      ]
     },
     "execution_count": 13,
     "metadata": {},
     "output_type": "execute_result"
    }
   ],
   "source": [
    "book_data[\"volumeInfo\"]"
   ]
  },
  {
   "attachments": {},
   "cell_type": "markdown",
   "metadata": {},
   "source": [
    "## writing a function to pull book data form the google books api"
   ]
  },
  {
   "cell_type": "code",
   "execution_count": 10,
   "metadata": {},
   "outputs": [],
   "source": [
    "def get_book_data(df, col_name):\n",
    "    # create an empty list to store the book data\n",
    "    book_data_list = []\n",
    "    url_base = 'https://www.googleapis.com/books/v1/volumes?q=id:'\n",
    "\n",
    "    # iterate over the book ids, and get the information we need using the Google Books API\n",
    "    for i, book_id in enumerate(df[col_name]):\n",
    "\n",
    "        # generate the URL for the Google Books API search \n",
    "        url = url_base + book_id\n",
    "\n",
    "        # get the book data; convert it to a dictionary using .json()\n",
    "        book_data = requests.get(url).json()\n",
    "\n",
    "        print(f'{i} {book_id}: {book_data.keys()}', end=': ')\n",
    "\n",
    "        if 'totalItems' in book_data and book_data['totalItems'] > 0:\n",
    "\n",
    "            print(book_data['totalItems'], end=': ')\n",
    "            print(book_data['items'][0]['volumeInfo']['title'], end='')\n",
    "            # extract the relevant fields and create a new row in the DataFrame\n",
    "            book = {\n",
    "                'book_id': book_id,\n",
    "                'average_rating': book_data['items'][0]['volumeInfo'].get('averageRating', ''),\n",
    "                'ratings_count': book_data['items'][0]['volumeInfo'].get('ratingsCount', ''),\n",
    "            }\n",
    "\n",
    "            # append the new dictionary to the book_data_list\n",
    "            book_data_list.append(book)\n",
    "        else:\n",
    "\n",
    "            # handle the case where no results were returned for the book id\n",
    "            # print(f\"No results found for book id {book_id}\")\n",
    "            pass\n",
    "\n",
    "        print()\n",
    "\n",
    "    # convert the list of dictionaries to a DataFrame\n",
    "    response_df = pd.DataFrame(book_data_list)\n",
    "    return response_df"
   ]
  },
  {
   "attachments": {},
   "cell_type": "markdown",
   "metadata": {},
   "source": [
    "## testing subset"
   ]
  },
  {
   "cell_type": "code",
   "execution_count": 11,
   "metadata": {},
   "outputs": [
    {
     "data": {
      "text/html": [
       "<div>\n",
       "<style scoped>\n",
       "    .dataframe tbody tr th:only-of-type {\n",
       "        vertical-align: middle;\n",
       "    }\n",
       "\n",
       "    .dataframe tbody tr th {\n",
       "        vertical-align: top;\n",
       "    }\n",
       "\n",
       "    .dataframe thead th {\n",
       "        text-align: right;\n",
       "    }\n",
       "</style>\n",
       "<table border=\"1\" class=\"dataframe\">\n",
       "  <thead>\n",
       "    <tr style=\"text-align: right;\">\n",
       "      <th></th>\n",
       "      <th>book_id</th>\n",
       "    </tr>\n",
       "  </thead>\n",
       "  <tbody>\n",
       "    <tr>\n",
       "      <th>0</th>\n",
       "      <td>FBXRzgEACAAJ</td>\n",
       "    </tr>\n",
       "    <tr>\n",
       "      <th>1</th>\n",
       "      <td>yyxXzQEACAAJ</td>\n",
       "    </tr>\n",
       "    <tr>\n",
       "      <th>2</th>\n",
       "      <td>YjAnfhsAQ8wC</td>\n",
       "    </tr>\n",
       "    <tr>\n",
       "      <th>3</th>\n",
       "      <td>xb4wSmJLnhAC</td>\n",
       "    </tr>\n",
       "    <tr>\n",
       "      <th>4</th>\n",
       "      <td>Qq9nQgAACAAJ</td>\n",
       "    </tr>\n",
       "  </tbody>\n",
       "</table>\n",
       "</div>"
      ],
      "text/plain": [
       "        book_id\n",
       "0  FBXRzgEACAAJ\n",
       "1  yyxXzQEACAAJ\n",
       "2  YjAnfhsAQ8wC\n",
       "3  xb4wSmJLnhAC\n",
       "4  Qq9nQgAACAAJ"
      ]
     },
     "execution_count": 11,
     "metadata": {},
     "output_type": "execute_result"
    }
   ],
   "source": [
    "subset = pd.read_csv(\"all_book_ids.csv\")\n",
    "subset = subset.head(5)\n",
    "subset"
   ]
  },
  {
   "cell_type": "code",
   "execution_count": 42,
   "metadata": {},
   "outputs": [
    {
     "data": {
      "text/html": [
       "<div>\n",
       "<style scoped>\n",
       "    .dataframe tbody tr th:only-of-type {\n",
       "        vertical-align: middle;\n",
       "    }\n",
       "\n",
       "    .dataframe tbody tr th {\n",
       "        vertical-align: top;\n",
       "    }\n",
       "\n",
       "    .dataframe thead th {\n",
       "        text-align: right;\n",
       "    }\n",
       "</style>\n",
       "<table border=\"1\" class=\"dataframe\">\n",
       "  <thead>\n",
       "    <tr style=\"text-align: right;\">\n",
       "      <th></th>\n",
       "      <th>title</th>\n",
       "      <th>subtitle</th>\n",
       "      <th>authors</th>\n",
       "      <th>publisher</th>\n",
       "      <th>publishdate</th>\n",
       "      <th>description</th>\n",
       "      <th>isbn_13</th>\n",
       "      <th>page_count</th>\n",
       "      <th>main_categories</th>\n",
       "      <th>categories</th>\n",
       "      <th>average_rating</th>\n",
       "      <th>ratings_count</th>\n",
       "      <th>maturity_rating</th>\n",
       "    </tr>\n",
       "  </thead>\n",
       "  <tbody>\n",
       "    <tr>\n",
       "      <th>0</th>\n",
       "      <td>Harry Potter and the Chamber of Secrets</td>\n",
       "      <td></td>\n",
       "      <td>[J. K. Rowling, Mary GrandPre]</td>\n",
       "      <td>Arthur a Levine</td>\n",
       "      <td>2003</td>\n",
       "      <td>When the Chamber of Secrets is opened again at...</td>\n",
       "      <td>9780439554893</td>\n",
       "      <td>341</td>\n",
       "      <td>[Juvenile Fiction]</td>\n",
       "      <td>[Juvenile Fiction]</td>\n",
       "      <td>4.5</td>\n",
       "      <td>2273</td>\n",
       "      <td>NOT_MATURE</td>\n",
       "    </tr>\n",
       "    <tr>\n",
       "      <th>1</th>\n",
       "      <td>Harry Potter and the Prisoner of Azkaban</td>\n",
       "      <td></td>\n",
       "      <td>[J. K. Rowling]</td>\n",
       "      <td>Scholastic Paperbacks</td>\n",
       "      <td>2004</td>\n",
       "      <td>During his third year at Hogwarts School for W...</td>\n",
       "      <td>9780439655484</td>\n",
       "      <td>547</td>\n",
       "      <td>[Juvenile Fiction]</td>\n",
       "      <td>[Juvenile Fiction]</td>\n",
       "      <td>4.5</td>\n",
       "      <td>2122</td>\n",
       "      <td>NOT_MATURE</td>\n",
       "    </tr>\n",
       "    <tr>\n",
       "      <th>2</th>\n",
       "      <td>Harry Potter</td>\n",
       "      <td>5 Years of Magic, Adventure, and Mystery at Ho...</td>\n",
       "      <td>[J. K. Rowling]</td>\n",
       "      <td></td>\n",
       "      <td>2004</td>\n",
       "      <td></td>\n",
       "      <td>9780439682589</td>\n",
       "      <td>0</td>\n",
       "      <td></td>\n",
       "      <td></td>\n",
       "      <td>4.5</td>\n",
       "      <td>13</td>\n",
       "      <td>NOT_MATURE</td>\n",
       "    </tr>\n",
       "    <tr>\n",
       "      <th>3</th>\n",
       "      <td>Unauthorized Harry Potter and the Deathly Hall...</td>\n",
       "      <td>Harry Potter Book Seven and Half-Blood Prince ...</td>\n",
       "      <td>[W. Frederick Zimmerman]</td>\n",
       "      <td>Nimble Books</td>\n",
       "      <td>2005-04</td>\n",
       "      <td>Through the magic of print-on-demand technolog...</td>\n",
       "      <td>9780976540601</td>\n",
       "      <td>152</td>\n",
       "      <td>[Fiction]</td>\n",
       "      <td>[Fiction]</td>\n",
       "      <td>3.5</td>\n",
       "      <td>11</td>\n",
       "      <td>NOT_MATURE</td>\n",
       "    </tr>\n",
       "    <tr>\n",
       "      <th>4</th>\n",
       "      <td>Harry Potter and the Prisoner of Azkaban</td>\n",
       "      <td></td>\n",
       "      <td>[J. K. Rowling]</td>\n",
       "      <td></td>\n",
       "      <td>1999</td>\n",
       "      <td>\"During his third year at Hogwarts School for ...</td>\n",
       "      <td>9780439827607</td>\n",
       "      <td>435</td>\n",
       "      <td>[Children's stories]</td>\n",
       "      <td>[Children's stories]</td>\n",
       "      <td>4.5</td>\n",
       "      <td>16</td>\n",
       "      <td>NOT_MATURE</td>\n",
       "    </tr>\n",
       "    <tr>\n",
       "      <th>5</th>\n",
       "      <td>The Ultimate Hitchhiker's Guide</td>\n",
       "      <td>Five Complete Novels and One Story</td>\n",
       "      <td>[Douglas Adams]</td>\n",
       "      <td>Gramercy</td>\n",
       "      <td>2005</td>\n",
       "      <td>6 Science fiction-romaner.</td>\n",
       "      <td>9780517226957</td>\n",
       "      <td>844</td>\n",
       "      <td>[Dent, Arthur (Fictitious character)]</td>\n",
       "      <td>[Dent, Arthur (Fictitious character)]</td>\n",
       "      <td>4.5</td>\n",
       "      <td>35</td>\n",
       "      <td>NOT_MATURE</td>\n",
       "    </tr>\n",
       "    <tr>\n",
       "      <th>6</th>\n",
       "      <td>The Ultimate Hitchhiker's Guide to the Galaxy</td>\n",
       "      <td></td>\n",
       "      <td>[Douglas Adams]</td>\n",
       "      <td>Del Rey</td>\n",
       "      <td>2002-04-30</td>\n",
       "      <td>In one complete volume, here are the five clas...</td>\n",
       "      <td>9780345453747</td>\n",
       "      <td>836</td>\n",
       "      <td>[Fiction]</td>\n",
       "      <td>[Fiction]</td>\n",
       "      <td>4.5</td>\n",
       "      <td>179</td>\n",
       "      <td>NOT_MATURE</td>\n",
       "    </tr>\n",
       "    <tr>\n",
       "      <th>7</th>\n",
       "      <td>The Hitchhiker's Guide to the Galaxy 25th Anni...</td>\n",
       "      <td>A Novel</td>\n",
       "      <td>[Douglas Adams]</td>\n",
       "      <td>Crown</td>\n",
       "      <td>2004-08-03</td>\n",
       "      <td>NEW YORK TIMES BESTSELLER • “Extremely funny ....</td>\n",
       "      <td>9781400052929</td>\n",
       "      <td>0</td>\n",
       "      <td>[Fiction]</td>\n",
       "      <td>[Fiction]</td>\n",
       "      <td></td>\n",
       "      <td></td>\n",
       "      <td>NOT_MATURE</td>\n",
       "    </tr>\n",
       "  </tbody>\n",
       "</table>\n",
       "</div>"
      ],
      "text/plain": [
       "                                               title  \\\n",
       "0            Harry Potter and the Chamber of Secrets   \n",
       "1           Harry Potter and the Prisoner of Azkaban   \n",
       "2                                       Harry Potter   \n",
       "3  Unauthorized Harry Potter and the Deathly Hall...   \n",
       "4           Harry Potter and the Prisoner of Azkaban   \n",
       "5                    The Ultimate Hitchhiker's Guide   \n",
       "6      The Ultimate Hitchhiker's Guide to the Galaxy   \n",
       "7  The Hitchhiker's Guide to the Galaxy 25th Anni...   \n",
       "\n",
       "                                            subtitle  \\\n",
       "0                                                      \n",
       "1                                                      \n",
       "2  5 Years of Magic, Adventure, and Mystery at Ho...   \n",
       "3  Harry Potter Book Seven and Half-Blood Prince ...   \n",
       "4                                                      \n",
       "5                 Five Complete Novels and One Story   \n",
       "6                                                      \n",
       "7                                            A Novel   \n",
       "\n",
       "                          authors              publisher publishdate  \\\n",
       "0  [J. K. Rowling, Mary GrandPre]        Arthur a Levine        2003   \n",
       "1                 [J. K. Rowling]  Scholastic Paperbacks        2004   \n",
       "2                 [J. K. Rowling]                               2004   \n",
       "3        [W. Frederick Zimmerman]           Nimble Books     2005-04   \n",
       "4                 [J. K. Rowling]                               1999   \n",
       "5                 [Douglas Adams]               Gramercy        2005   \n",
       "6                 [Douglas Adams]                Del Rey  2002-04-30   \n",
       "7                 [Douglas Adams]                  Crown  2004-08-03   \n",
       "\n",
       "                                         description        isbn_13  \\\n",
       "0  When the Chamber of Secrets is opened again at...  9780439554893   \n",
       "1  During his third year at Hogwarts School for W...  9780439655484   \n",
       "2                                                     9780439682589   \n",
       "3  Through the magic of print-on-demand technolog...  9780976540601   \n",
       "4  \"During his third year at Hogwarts School for ...  9780439827607   \n",
       "5                         6 Science fiction-romaner.  9780517226957   \n",
       "6  In one complete volume, here are the five clas...  9780345453747   \n",
       "7  NEW YORK TIMES BESTSELLER • “Extremely funny ....  9781400052929   \n",
       "\n",
       "   page_count                        main_categories  \\\n",
       "0         341                     [Juvenile Fiction]   \n",
       "1         547                     [Juvenile Fiction]   \n",
       "2           0                                          \n",
       "3         152                              [Fiction]   \n",
       "4         435                   [Children's stories]   \n",
       "5         844  [Dent, Arthur (Fictitious character)]   \n",
       "6         836                              [Fiction]   \n",
       "7           0                              [Fiction]   \n",
       "\n",
       "                              categories average_rating ratings_count  \\\n",
       "0                     [Juvenile Fiction]            4.5          2273   \n",
       "1                     [Juvenile Fiction]            4.5          2122   \n",
       "2                                                   4.5            13   \n",
       "3                              [Fiction]            3.5            11   \n",
       "4                   [Children's stories]            4.5            16   \n",
       "5  [Dent, Arthur (Fictitious character)]            4.5            35   \n",
       "6                              [Fiction]            4.5           179   \n",
       "7                              [Fiction]                                \n",
       "\n",
       "  maturity_rating  \n",
       "0      NOT_MATURE  \n",
       "1      NOT_MATURE  \n",
       "2      NOT_MATURE  \n",
       "3      NOT_MATURE  \n",
       "4      NOT_MATURE  \n",
       "5      NOT_MATURE  \n",
       "6      NOT_MATURE  \n",
       "7      NOT_MATURE  "
      ]
     },
     "execution_count": 42,
     "metadata": {},
     "output_type": "execute_result"
    }
   ],
   "source": [
    "response_df"
   ]
  },
  {
   "cell_type": "code",
   "execution_count": 10,
   "metadata": {},
   "outputs": [],
   "source": [
    "#commented out to not edit huge csv\n",
    "#response_df.to_csv('isbn13_results.csv')"
   ]
  },
  {
   "attachments": {},
   "cell_type": "markdown",
   "metadata": {},
   "source": [
    "Using Google Books API to fix missing data in Kaggle Dataset"
   ]
  },
  {
   "cell_type": "code",
   "execution_count": 11,
   "metadata": {},
   "outputs": [
    {
     "name": "stdout",
     "output_type": "stream",
     "text": [
      "9780439785969\n"
     ]
    },
    {
     "data": {
      "text/plain": [
       "dict_keys(['kind', 'totalItems'])"
      ]
     },
     "execution_count": 11,
     "metadata": {},
     "output_type": "execute_result"
    }
   ],
   "source": [
    "# get the faulty ISBN\n",
    "isbn = isbn_13.loc[0]\n",
    "print(isbn)\n",
    "\n",
    "# url for the book\n",
    "url = f\"https://www.googleapis.com/books/v1/volumes?q=isbn:{isbn}\"\n",
    "\n",
    "# get the book\n",
    "response = requests.get(url)\n",
    "\n",
    "# convert the HTTP Response object to a dict\n",
    "json = response.json()\n",
    "\n",
    "# get the keys for the dict\n",
    "json.keys()"
   ]
  },
  {
   "attachments": {},
   "cell_type": "markdown",
   "metadata": {},
   "source": [
    "# testing SpaCy"
   ]
  },
  {
   "attachments": {},
   "cell_type": "markdown",
   "metadata": {},
   "source": [
    "### 1 and 1 "
   ]
  },
  {
   "cell_type": "code",
   "execution_count": 39,
   "metadata": {},
   "outputs": [
    {
     "data": {
      "text/plain": [
       "0.8970893140160056"
      ]
     },
     "execution_count": 39,
     "metadata": {},
     "output_type": "execute_result"
    }
   ],
   "source": [
    "# Load English tokenizer, tagger, parser and NER\n",
    "nlp = spacy.load(\"en_core_web_lg\")\n",
    "\n",
    "# Process whole documents\n",
    "book_d_1 = nlp(response_df[\"description\"][0])\n",
    "book_d_2 = nlp(response_df[\"description\"][1])\n",
    "\n",
    "book_d_1.similarity(book_d_2)"
   ]
  },
  {
   "attachments": {},
   "cell_type": "markdown",
   "metadata": {},
   "source": [
    "### 1 and many"
   ]
  },
  {
   "cell_type": "code",
   "execution_count": 47,
   "metadata": {},
   "outputs": [
    {
     "name": "stdout",
     "output_type": "stream",
     "text": [
      "Similarity score with 'Durin': 0.8970893140160056\n",
      "Similarity score with '': 0.0\n",
      "Similarity score with 'Throu': 0.8815107060053393\n",
      "Similarity score with '\"Duri': 0.8823296614181213\n",
      "Similarity score with '6 Sci': 0.4377405652863445\n"
     ]
    },
    {
     "name": "stderr",
     "output_type": "stream",
     "text": [
      "C:\\Users\\danie\\AppData\\Local\\Temp\\ipykernel_42924\\3463707688.py:20: UserWarning: [W008] Evaluating Doc.similarity based on empty vectors.\n",
      "  similarity_score = book_d_1.similarity(doc)\n"
     ]
    }
   ],
   "source": [
    "# Load LARGE English tokenizer, tagger, parser and NER\n",
    "nlp = spacy.load(\"en_core_web_lg\")\n",
    "\n",
    "# pulling and creating variables for books descriptions\n",
    "book_d_1 = nlp(response_df[\"description\"][0])\n",
    "book_d_2 = nlp(response_df[\"description\"][1])\n",
    "book_d_3 = nlp(response_df[\"description\"][2])\n",
    "book_d_4 = nlp(response_df[\"description\"][3])\n",
    "book_d_5 = nlp(response_df[\"description\"][4])\n",
    "book_d_6 = nlp(response_df[\"description\"][5])\n",
    "\n",
    "# Descriptions from books\n",
    "texts = [book_d_2, book_d_3, book_d_4, book_d_5, book_d_6]\n",
    "\n",
    "# Create a list of Doc objects\n",
    "docs = [nlp(text) for text in texts]\n",
    "\n",
    "# Compare doc1 with each of the docs in the list\n",
    "for doc in docs:\n",
    "    similarity_score = book_d_1.similarity(doc)\n",
    "    head_text = doc.text[:5]  # Get the first 5 characters of the text\n",
    "    print(f\"Similarity score with '{head_text}': {similarity_score}\")"
   ]
  }
 ],
 "metadata": {
  "kernelspec": {
   "display_name": "Python 3",
   "language": "python",
   "name": "python3"
  },
  "language_info": {
   "codemirror_mode": {
    "name": "ipython",
    "version": 3
   },
   "file_extension": ".py",
   "mimetype": "text/x-python",
   "name": "python",
   "nbconvert_exporter": "python",
   "pygments_lexer": "ipython3",
   "version": "3.11.3"
  },
  "orig_nbformat": 4,
  "vscode": {
   "interpreter": {
    "hash": "b92c64ddd97bd75b75879c676e53789d19cf25aafb287fcc8a3273f02b13a1d2"
   }
  }
 },
 "nbformat": 4,
 "nbformat_minor": 2
}
